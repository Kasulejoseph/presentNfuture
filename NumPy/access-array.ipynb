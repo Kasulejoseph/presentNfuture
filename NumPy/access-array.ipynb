{
 "cells": [
  {
   "cell_type": "code",
   "execution_count": 73,
   "metadata": {},
   "outputs": [
    {
     "name": "stdout",
     "output_type": "stream",
     "text": [
      "[[ 0  1  2  3  4]\n",
      " [ 5  6  7  8  9]\n",
      " [10 -1 -1 -1 -1]\n",
      " [-1 -1 17 18 19]\n",
      " [20 21 22 23 24]] \n",
      "\n",
      "intsec [2 4]\n",
      "diff [1 3 5]\n",
      "union [1 2 3 4 5 6 7 8]\n"
     ]
    }
   ],
   "source": [
    "import numpy as np\n",
    "x = np.arange(1, 10).reshape(3,3)\n",
    "x[2, 2] = 100\n",
    "# np.delete(ndarray, elements, axis)\n",
    "# For rank 2 ndarrays, axis = 0 is used to select rows, and axis = 1 is used to select columns\n",
    "y = np.array([1, 2, 3, 4, 5])\n",
    "y = np.delete(y, [0, 3]) #[2 3 5]\n",
    "x = np.delete(x, 0, axis=1) #[[  2   3] [  5   6] [  8 100]]\n",
    "x = np.delete(x, 0, axis=0) # [[  4   5   6] [  7   8 100]]\n",
    "\n",
    "# np.append(ndarray, elements, axis)\n",
    "y = np.array([1, 2, 3, 4, 5])\n",
    "x = np.arange(1, 10).reshape(3,3)\n",
    "y = np.append(y, [3, 6])\n",
    "# We append a new row containing 7,8,9 to y\n",
    "x = np.append(x, [[7,8,9]], axis=0)\n",
    "# We append a new column containing 9, 10, 11, 12 to y\n",
    "x = np.append(x, [[9], [10], [11], [12]], axis=1)\n",
    "\n",
    "# np.insert(ndarray, index, elements, axis)\n",
    "y = np.array([1, 2, 3, 4, 5])\n",
    "x = np.arange(1, 10).reshape(3,3)\n",
    "y = np.insert(y, 3, [100, 101])\n",
    "x = np.insert(x, 0, [5, 5, 5], axis=0) # [[5 5 5][1 2 3][4 5 6][7 8 9]]\n",
    "x = np.insert(x, 0, [5, 5, 5, 5], axis=1) #[[5 5 5 5][5 1 2 3][5 4 5 6][5 7 8 9]]\n",
    "\n",
    "\n",
    "# SLicing arrays\n",
    "# 1. ndarray[start:end]\n",
    "# 2. ndarray[start:]\n",
    "# 3. ndarray[:end]\n",
    "x = np.arange(1, 21).reshape(4,5)\n",
    "y = x[1:, 1:]\n",
    "y = x[3:, :] # [[16 17 18 19 20]]\n",
    "y = x[:, 4:] # [[ 5][10][15][20]]\n",
    "# We print the elements above the main diagonal of X\n",
    "y = np.diag(x, k=1) # [ 2  8 14 20]\n",
    "y = np.diag(x, k=-1)\n",
    "\n",
    "# Create 3 x 3 ndarray with repeated values\n",
    "X = np.array([[1,2,3],[5,2,8],[1,2,3]])\n",
    "un = np.unique(X) # [1 2 3 5 8]\n",
    "\n",
    "#   Boolean indexin\n",
    "X = np.arange(25).reshape(5, 5)\n",
    "x = x[x>10] # [11 12 13 14 15 16 17 18 19 20]\n",
    "# We use Boolean indexing to assign the elements that are between 10 and 17 the value of -1\n",
    "X[(X > 10) & (X < 17)] =  -1\n",
    "\n",
    "# set operations\n",
    "x = np.array([1,2,3,4,5])\n",
    "# We create a rank 1 ndarray\n",
    "y = np.array([6,7,2,8,4])\n",
    "intsec = np.intersect1d(x, y)\n",
    "setdif = np.setdiff1d(x, y)\n",
    "union = np.union1d(x, y)\n",
    "print(X, '\\n')\n",
    "print('intsec', intsec)\n",
    "print('diff', setdif)\n",
    "print('union', union)\n",
    "\n",
    "# np.sort() ndarray.sort() np.sort(X, axis = 0)"
   ]
  }
 ],
 "metadata": {
  "kernelspec": {
   "display_name": "Python [conda env:env] *",
   "language": "python",
   "name": "conda-env-env-py"
  },
  "language_info": {
   "codemirror_mode": {
    "name": "ipython",
    "version": 3
   },
   "file_extension": ".py",
   "mimetype": "text/x-python",
   "name": "python",
   "nbconvert_exporter": "python",
   "pygments_lexer": "ipython3",
   "version": "3.7.4"
  }
 },
 "nbformat": 4,
 "nbformat_minor": 2
}