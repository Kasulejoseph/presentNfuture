{
 "cells": [
  {
   "cell_type": "code",
   "execution_count": 28,
   "metadata": {},
   "outputs": [
    {
     "name": "stdout",
     "output_type": "stream",
     "text": [
      "6\n",
      "bread     No\n",
      "milk     Yes\n",
      "dtype: object\n",
      "egg      30\n",
      "bread    No\n",
      "dtype: object\n",
      "using loc 6\n",
      "using integer location \n",
      " milk     Yes\n",
      "bread     No\n",
      "dtype: object\n",
      "\n",
      " egg        30\n",
      "apples      6\n",
      "milk      Yes\n",
      "bread      No\n",
      "eggs        2\n",
      "dtype: object\n",
      "deleted egg       30\n",
      "milk     Yes\n",
      "bread     No\n",
      "eggs       2\n",
      "dtype: object\n",
      "yy \n",
      " (apples     13\n",
      "oranges     9\n",
      "bananas     6\n",
      "dtype: int64, apples     2.50\n",
      "oranges    1.50\n",
      "bananas    0.75\n",
      "dtype: float64, apples     20\n",
      "oranges    12\n",
      "bananas     6\n",
      "dtype: int64)\n"
     ]
    }
   ],
   "source": [
    "import pandas as pd\n",
    "groceries = pd.Series(data= [30, 6, 'Yes', 'No'], index = ['egg', 'apples', 'milk', 'bread'])\n",
    "\n",
    "# We check whether bananas is a food item (an index) in Groceries\n",
    "x = 'bananas' in groceries\n",
    "\n",
    "# print(groceries)\n",
    "# print('shape', groceries.shape)\n",
    "# print('size', groceries.size)\n",
    "# print('dimension', groceries.ndim)\n",
    "# print('')\n",
    "# print('Data', groceries.values)\n",
    "# print('Index', groceries.index)\n",
    "# print('Is bananas an index label in Groceries:', x)\n",
    "\n",
    "# Accessing elements\n",
    "print(groceries['apples'])\n",
    "print(groceries[['bread', 'milk']])\n",
    "print(groceries[[0, -1]])\n",
    "# The attribute .loc stands for location and it is used to explicitly state that we are using a labeled index.\n",
    "print('using loc', groceries.loc['apples'])\n",
    "#   the attribute .iloc stands for integer location and it is used to explicitly state that we are using a numerical index.\n",
    "print('using integer location \\n', groceries.iloc[[2, 3]])\n",
    "# We change the number of eggs to 2\n",
    "groceries['eggs'] = 2\n",
    "print('\\n', groceries)\n",
    "# drop element from serie\n",
    "print('deleted', groceries.drop('apples')) #doesn't entirely delete it..\n",
    "\n",
    "# We remove apples from our grocery list in place by setting the inplace keyword to True\n",
    "groceries.drop('apples', inplace = True)\n",
    "\n",
    "# Arithmetic operations\n",
    "fruits = pd.Series(data = [10, 6, 3], index = ['apples', 'oranges', 'bananas'])\n",
    "# add, multiply, etc\n",
    "y = fruits+3, fruits/4, fruits* 2\n",
    "z = fruts['apples'] + 2, fruits.iloc[1] -2 \n",
    "print('yy \\n', y)\n"
   ]
  }
 ],
 "metadata": {
  "kernelspec": {
   "display_name": "Python [conda env:env] *",
   "language": "python",
   "name": "conda-env-env-py"
  },
  "language_info": {
   "codemirror_mode": {
    "name": "ipython",
    "version": 3
   },
   "file_extension": ".py",
   "mimetype": "text/x-python",
   "name": "python",
   "nbconvert_exporter": "python",
   "pygments_lexer": "ipython3",
   "version": "3.7.4"
  }
 },
 "nbformat": 4,
 "nbformat_minor": 2
}
