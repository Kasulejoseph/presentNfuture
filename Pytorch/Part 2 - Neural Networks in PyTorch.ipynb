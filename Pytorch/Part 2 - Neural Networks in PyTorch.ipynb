{
 "cells": [
  {
   "cell_type": "markdown",
   "metadata": {},
   "source": [
    "# Neural networks with PyTorch\n",
    "\n",
    "Next I'll show you how to build a neural network with PyTorch."
   ]
  },
  {
   "cell_type": "code",
   "execution_count": 1,
   "metadata": {},
   "outputs": [],
   "source": [
    "# Import things like usual\n",
    "\n",
    "%matplotlib inline\n",
    "%config InlineBackend.figure_format = 'retina'\n",
    "\n",
    "import numpy as np \n",
    "import torch\n",
    "\n",
    "from Pytorch.helper import view_classify\n",
    "\n",
    "import matplotlib.pyplot as plt \n",
    "from torchvision import datasets, transforms\n"
   ]
  },
  {
   "cell_type": "markdown",
   "metadata": {},
   "source": [
    "First up, we need to get our dataset. This is provided through the `torchvision` package. The code below will download the MNIST dataset, then create training and test datasets for us. Don't worry too much about the details here, you'll learn more about this later."
   ]
  },
  {
   "cell_type": "code",
   "execution_count": 2,
   "metadata": {},
   "outputs": [],
   "source": [
    "# Define a transform to normalize the data\n",
    "transform = transforms.Compose([transforms.ToTensor(),\n",
    "    transforms.Normalize([0.5], [0.5])\n",
    "])\n",
    "\n",
    "# Download and load the training data\n",
    "trainset = datasets.MNIST('F_MNIST_data/', download=True, train=True, transform=transform)\n",
    "trainloader = torch.utils.data.DataLoader(trainset, batch_size=64, shuffle=True)\n",
    "\n",
    "# Download and load the test data\n",
    "testset = datasets.MNIST('F_MNIST_data/', download=True, train=False, transform=transform)\n",
    "testloader = torch.utils.data.DataLoader(trainset, batch_size=64, shuffle=True)\n",
    "\n"
   ]
  },
  {
   "cell_type": "code",
   "execution_count": 3,
   "metadata": {},
   "outputs": [],
   "source": [
    "# we make the trainloader data an iterator with iter(trainloader). whixh will help us to loop through the dataset for training.\n",
    "dataiter = iter(trainloader)\n",
    "images, labels = dataiter.next()"
   ]
  },
  {
   "cell_type": "markdown",
   "metadata": {},
   "source": [
    "We have the training data loaded into `trainloader` and we make that an iterator with `iter(trainloader)`. We'd use this to loop through the dataset for training, but here I'm just grabbing the first batch so we can check out the data. We can see below that `images` is just a tensor with size (64, 1, 28, 28). So, 64 images per batch, 1 color channel, and 28x28 images."
   ]
  },
  {
   "cell_type": "code",
   "execution_count": 4,
   "metadata": {},
   "outputs": [
    {
     "data": {
      "image/png": "[encoded data removed]",
      "text/plain": "<Figure size 432x288 with 1 Axes>"
     },
     "metadata": {
      "image/png": {
       "height": 248,
       "width": 251
      },
      "needs_background": "light"
     },
     "output_type": "display_data"
    }
   ],
   "source": [
    "plt.imshow(images[1].numpy().squeeze(), cmap='Greys_r');"
   ]
  },
  {
   "cell_type": "markdown",
   "metadata": {},
   "source": [
    "## Building networks with PyTorch\n",
    "\n",
    "Here I'll use PyTorch to build a simple feedfoward network to classify the MNIST images. That is, the network will receive a digit image as input and predict the digit in the image.\n",
    "\n",
    "<img src=\"assets/mlp_mnist.png\" width=600px>\n",
    "\n",
    "To build a neural network with PyTorch, you use the `torch.nn` module. The network itself is a class inheriting from `torch.nn.Module`. You define each of the operations separately, like `nn.Linear(784, 128)` for a fully connected linear layer with 784 inputs and 128 units.\n",
    "\n",
    "The class needs to include a `forward` method that implements the forward pass through the network. In this method, you pass some input tensor `x` through each of the operations you defined earlier. The `torch.nn` module also has functional equivalents for things like ReLUs in `torch.nn.functional`. This module is usually imported as `F`. Then to use a ReLU activation on some layer (which is just a tensor), you'd do `F.relu(x)`. Below are a few different commonly used activation functions.\n",
    "\n",
    "<img src=\"assets/activation.png\" width=700px>\n",
    "\n",
    "So, for this network, I'll build it with three fully connected layers, then a softmax output for predicting classes. The softmax function is similar to the sigmoid in that it squashes inputs between 0 and 1, but it's also normalized so that all the values sum to one like a proper probability distribution."
   ]
  },
  {
   "cell_type": "code",
   "execution_count": 5,
   "metadata": {},
   "outputs": [],
   "source": [
    "from torch import nn, optim\n",
    "import torch.nn.functional as F"
   ]
  },
  {
   "cell_type": "code",
   "execution_count": 6,
   "metadata": {},
   "outputs": [
    {
     "data": {
      "text/plain": "Network(\n  (fc1): Linear(in_features=784, out_features=128, bias=True)\n  (fc2): Linear(in_features=128, out_features=64, bias=True)\n  (fc3): Linear(in_features=64, out_features=10, bias=True)\n)"
     },
     "execution_count": 6,
     "metadata": {},
     "output_type": "execute_result"
    }
   ],
   "source": [
    "class Network(nn.Module):\n",
    "    def __init__(self):\n",
    "        super().__init__()\n",
    "        # Defining layers, 128, 64, 10 units each\n",
    "        self.fc1 = nn.Linear(784, 128)\n",
    "        self.fc2 = nn.Linear(128, 64)\n",
    "        # Output layer, 10 units - one for each digit\n",
    "        self.fc3 = nn.Linear(64, 10)\n",
    "\n",
    "    def forward(self, x):\n",
    "        \"\"\"Forward pass through the network, returns the output digits\"\"\"\n",
    "        x = self.fc1(x)\n",
    "        x = F.relu(x)\n",
    "        x = self.fc2(x)\n",
    "        x = F.relu(x)\n",
    "        x = self.fc3(x)\n",
    "        x = F.softmax(x, dim=1)\n",
    "\n",
    "        return x\n",
    "\n",
    "model = Network()\n",
    "model\n"
   ]
  },
  {
   "cell_type": "markdown",
   "metadata": {},
   "source": [
    "### Initializing weights and biases\n",
    "\n",
    "The weights and such are automatically initialized for you, but it's possible to customize how they are initialized. The weights and biases are tensors attached to the layer you defined, you can get them with `model.fc1.weight` for instance."
   ]
  },
  {
   "cell_type": "code",
   "execution_count": 7,
   "metadata": {},
   "outputs": [
    {
     "name": "stdout",
     "output_type": "stream",
     "text": "Parameter containing:\ntensor([[ 0.0025,  0.0004,  0.0339,  ...,  0.0250, -0.0230,  0.0002],\n        [-0.0330, -0.0011, -0.0195,  ..., -0.0248, -0.0166, -0.0321],\n        [ 0.0239, -0.0312, -0.0253,  ...,  0.0088, -0.0052,  0.0164],\n        ...,\n        [ 0.0357,  0.0281,  0.0087,  ...,  0.0190, -0.0286,  0.0286],\n        [ 0.0013,  0.0251,  0.0016,  ...,  0.0297,  0.0166, -0.0111],\n        [-0.0328, -0.0213, -0.0196,  ...,  0.0107, -0.0145,  0.0227]],\n       requires_grad=True)\nParameter containing:\ntensor([-0.0326,  0.0230, -0.0310, -0.0081, -0.0232,  0.0106, -0.0148,  0.0152,\n         0.0285,  0.0250,  0.0310,  0.0267, -0.0017, -0.0356,  0.0302,  0.0293,\n         0.0244, -0.0013,  0.0249,  0.0216, -0.0247,  0.0111,  0.0252,  0.0005,\n         0.0300, -0.0079,  0.0323,  0.0126,  0.0353,  0.0341, -0.0274, -0.0311,\n         0.0319, -0.0092,  0.0156,  0.0204, -0.0061, -0.0179, -0.0104, -0.0108,\n         0.0266,  0.0103,  0.0352, -0.0013, -0.0221,  0.0308, -0.0280, -0.0312,\n        -0.0085, -0.0310,  0.0205, -0.0221,  0.0314, -0.0134,  0.0034, -0.0160,\n        -0.0028, -0.0148,  0.0054, -0.0305,  0.0121, -0.0275,  0.0254,  0.0044,\n         0.0294, -0.0151, -0.0084, -0.0331, -0.0213,  0.0018,  0.0238,  0.0357,\n        -0.0201, -0.0330,  0.0059, -0.0020, -0.0334, -0.0297, -0.0066,  0.0120,\n         0.0287, -0.0107,  0.0141, -0.0243,  0.0138, -0.0117,  0.0055, -0.0238,\n        -0.0244, -0.0339,  0.0267,  0.0277,  0.0353, -0.0219, -0.0245, -0.0131,\n         0.0013,  0.0286,  0.0146, -0.0072,  0.0342, -0.0192,  0.0030,  0.0010,\n        -0.0256,  0.0041, -0.0178, -0.0186, -0.0218, -0.0212, -0.0328, -0.0024,\n        -0.0025,  0.0248, -0.0094, -0.0056, -0.0074,  0.0006,  0.0316,  0.0084,\n        -0.0331,  0.0220, -0.0225, -0.0191, -0.0046, -0.0314, -0.0147,  0.0047],\n       requires_grad=True)\n"
    }
   ],
   "source": [
    "print(model.fc1.weight)\n",
    "print(model.fc1.bias)"
   ]
  },
  {
   "cell_type": "markdown",
   "metadata": {},
   "source": [
    "For custom initialization, we want to modify these tensors in place. These are actually autograd *Variables*, so we need to get back the actual tensors with `model.fc1.weight.data`. Once we have the tensors, we can fill them with zeros (for biases) or random normal values."
   ]
  },
  {
   "cell_type": "code",
   "execution_count": 8,
   "metadata": {},
   "outputs": [
    {
     "data": {
      "text/plain": "tensor([0., 0., 0., 0., 0., 0., 0., 0., 0., 0., 0., 0., 0., 0., 0., 0., 0., 0., 0., 0., 0., 0., 0., 0.,\n        0., 0., 0., 0., 0., 0., 0., 0., 0., 0., 0., 0., 0., 0., 0., 0., 0., 0., 0., 0., 0., 0., 0., 0.,\n        0., 0., 0., 0., 0., 0., 0., 0., 0., 0., 0., 0., 0., 0., 0., 0., 0., 0., 0., 0., 0., 0., 0., 0.,\n        0., 0., 0., 0., 0., 0., 0., 0., 0., 0., 0., 0., 0., 0., 0., 0., 0., 0., 0., 0., 0., 0., 0., 0.,\n        0., 0., 0., 0., 0., 0., 0., 0., 0., 0., 0., 0., 0., 0., 0., 0., 0., 0., 0., 0., 0., 0., 0., 0.,\n        0., 0., 0., 0., 0., 0., 0., 0.])"
     },
     "execution_count": 8,
     "metadata": {},
     "output_type": "execute_result"
    }
   ],
   "source": [
    "# Set biases to all zeros\n",
    "model.fc1.bias.data.fill_(0)"
   ]
  },
  {
   "cell_type": "code",
   "execution_count": 9,
   "metadata": {},
   "outputs": [
    {
     "data": {
      "text/plain": "tensor([[-0.0123, -0.0001, -0.0160,  ...,  0.0011, -0.0087,  0.0035],\n        [-0.0118, -0.0098, -0.0036,  ..., -0.0091, -0.0089,  0.0039],\n        [-0.0157, -0.0075,  0.0050,  ..., -0.0076, -0.0083, -0.0021],\n        ...,\n        [-0.0131,  0.0138, -0.0085,  ...,  0.0019,  0.0098,  0.0097],\n        [ 0.0067,  0.0028,  0.0191,  ..., -0.0059,  0.0129, -0.0131],\n        [-0.0141,  0.0189, -0.0135,  ..., -0.0047,  0.0108, -0.0007]])"
     },
     "execution_count": 9,
     "metadata": {},
     "output_type": "execute_result"
    }
   ],
   "source": [
    "# sample from random normal with standard dev = 0.01\n",
    "model.fc1.weight.data.normal_(std=0.01)"
   ]
  },
  {
   "cell_type": "markdown",
   "metadata": {},
   "source": [
    "### Forward pass\n",
    "\n",
    "Now that we have a network, let's see what happens when we pass in an image. This is called the forward pass. We're going to convert the image data into a tensor, then pass it through the operations defined by the network architecture."
   ]
  },
  {
   "cell_type": "code",
   "execution_count": 10,
   "metadata": {},
   "outputs": [
    {
     "data": {
      "image/png": "[encoded data removed]",
      "text/plain": "<Figure size 432x288 with 1 Axes>"
     },
     "metadata": {
      "image/png": {
       "height": 248,
       "width": 251
      },
      "needs_background": "light"
     },
     "output_type": "display_data"
    },
    {
     "data": {
      "image/png": "[encoded data removed]",
      "text/plain": "<Figure size 432x648 with 2 Axes>"
     },
     "metadata": {
      "image/png": {
       "height": 235,
       "width": 424
      },
      "needs_background": "light"
     },
     "output_type": "display_data"
    }
   ],
   "source": [
    "# Grab some data \n",
    "dataiter = iter(trainloader)\n",
    "images, labels = dataiter.next()\n",
    "plt.imshow(images[0].numpy().squeeze(), cmap='Greys_r')\n",
    "\n",
    "# Resize images into a 1D vector, new shape is (batch size, color channels, image pixels) \n",
    "images.resize_(64, 1, 784)\n",
    "# or images.resize_(images.shape[0], 1, 784) to not automatically get batch size\n",
    "\n",
    "# Forward pass through the network\n",
    "img_idk = 0\n",
    "prob = model.forward(images[img_idk,:])\n",
    "view_classify(images[img_idk].view(1, 28, 28), prob)"
   ]
  },
  {
   "cell_type": "markdown",
   "metadata": {},
   "source": [
    "As you can see above, our network has basically no idea what this digit is. It's because we haven't trained it yet, all the weights are random!\n",
    "\n",
    "PyTorch provides a convenient way to build networks like this where a tensor is passed sequentially through operations, `nn.Sequential` ([documentation](https://pytorch.org/docs/master/nn.html#torch.nn.Sequential)). Using this to build the equivalent network:"
   ]
  },
  {
   "cell_type": "code",
   "execution_count": 11,
   "metadata": {},
   "outputs": [
    {
     "data": {
      "image/png": "[encoded data removed]",
      "text/plain": "<Figure size 432x648 with 2 Axes>"
     },
     "metadata": {
      "image/png": {
       "height": 235,
       "width": 424
      },
      "needs_background": "light"
     },
     "output_type": "display_data"
    }
   ],
   "source": [
    "# Hyperparameters for our network\n",
    "input_size = 784\n",
    "hidden_layer = [128, 64]\n",
    "output_size = 10\n",
    "\n",
    "# Build a feed-forward network\n",
    "model = nn.Sequential(\n",
    "    nn.Linear(input_size, hidden_layer[0]),\n",
    "    nn.ReLU(),\n",
    "    nn.Linear(hidden_layer[0], hidden_layer[1]),\n",
    "    nn.ReLU(),\n",
    "    nn.Linear(hidden_layer[1], output_size),\n",
    "    nn.Softmax(dim=1)\n",
    ")\n",
    "model\n",
    "# Forward pass through the network and display output\n",
    "images.resize_(images.shape[0], 1, 784)\n",
    "prob = model.forward(images[0, :])\n",
    "view_classify(images[0].view(1, 28, 28), prob)"
   ]
  },
  {
   "cell_type": "markdown",
   "metadata": {},
   "source": [
    "You can also pass in an `OrderedDict` to name the individual layers and operations. Note that a dictionary keys must be unique, so _each operation must have a different name_."
   ]
  },
  {
   "cell_type": "code",
   "execution_count": 17,
   "metadata": {},
   "outputs": [
    {
     "data": {
      "text/plain": "Parameter containing:\ntensor([[-0.0461,  0.0154,  0.0410,  ...,  0.0080, -0.0124,  0.0454],\n        [-0.0465,  0.0152,  0.0361,  ..., -0.0100, -0.0335,  0.0279],\n        [ 0.0007,  0.0213,  0.0099,  ...,  0.0483,  0.0124, -0.0391],\n        ...,\n        [-0.0171, -0.0324,  0.0393,  ...,  0.0489,  0.0478, -0.0163],\n        [-0.0226,  0.0121,  0.0315,  ..., -0.0494,  0.0420, -0.0082],\n        [-0.0301,  0.0114, -0.0283,  ..., -0.0112,  0.0399,  0.0338]],\n       requires_grad=True)"
     },
     "execution_count": 17,
     "metadata": {},
     "output_type": "execute_result"
    }
   ],
   "source": [
    "from collections import OrderedDict\n",
    "model = nn.Sequential(OrderedDict([\n",
    "    ('fc1', nn.Linear(input_size, hidden_layer[0])),\n",
    "    ('relu1', nn.ReLU()),\n",
    "    ('fc2', nn.Linear(hidden_layer[0], hidden_layer[1])),\n",
    "    ('relu2', nn.ReLU()),\n",
    "    ('output', nn.Linear(hidden_layer[1], output_size)),\n",
    "    ('softmax', nn.Softmax(dim=1)),\n",
    "\n",
    "]))\n",
    "model.fc2"
   ]
  },
  {
   "cell_type": "markdown",
   "metadata": {},
   "source": [
    "Now it's your turn to build a simple network, use any method I've covered so far. In the next notebook, you'll learn how to train a network so it can make good predictions.\n",
    "\n",
    ">**Exercise:** Build a network to classify the MNIST images with _three_ hidden layers. Use 400 units in the first hidden layer, 200 units in the second layer, and 100 units in the third layer. Each hidden layer should have a ReLU activation function, and use softmax on the output layer. "
   ]
  },
  {
   "cell_type": "code",
   "execution_count": 13,
   "metadata": {},
   "outputs": [
    {
     "data": {
      "text/plain": "Sequential(\n  (0): Linear(in_features=784, out_features=400, bias=True)\n  (1): ReLU()\n  (2): Linear(in_features=400, out_features=300, bias=True)\n  (3): ReLU()\n  (4): Linear(in_features=300, out_features=100, bias=True)\n  (5): ReLU()\n  (6): Linear(in_features=100, out_features=10, bias=True)\n  (7): ReLU()\n)"
     },
     "execution_count": 13,
     "metadata": {},
     "output_type": "execute_result"
    }
   ],
   "source": [
    "## TODO: Your network here\n",
    "## TODO: Your network here\n",
    "\n",
    "# Define network params\n",
    "input_size = 784\n",
    "hidden_layer = [400, 300, 100]\n",
    "output_size = 10\n",
    "\n",
    "# Build network model\n",
    "model = nn.Sequential(\n",
    "    nn.Linear(input_size, hidden_layer[0]),\n",
    "    nn.ReLU(),\n",
    "    nn.Linear(hidden_layer[0], hidden_layer[1]),\n",
    "    nn.ReLU(),\n",
    "    nn.Linear(hidden_layer[1], hidden_layer[2]),\n",
    "    nn.ReLU(),\n",
    "    nn.Linear(hidden_layer[2], output_size),\n",
    "    nn.ReLU(),\n",
    "    \n",
    ")\n",
    "model\n"
   ]
  },
  {
   "cell_type": "code",
   "execution_count": 14,
   "metadata": {},
   "outputs": [
    {
     "data": {
      "image/png": "[encoded data removed]",
      "text/plain": "<Figure size 432x648 with 2 Axes>"
     },
     "metadata": {
      "image/png": {
       "height": 235,
       "width": 424
      },
      "needs_background": "light"
     },
     "output_type": "display_data"
    }
   ],
   "source": [
    "## Run this cell with your model to make sure it works ##\n",
    "# Forward pass through the network and display output\n",
    "images, labels = next(iter(trainloader))\n",
    "images.resize_(images.shape[0], 1, 784)\n",
    "ps = model.forward(images[0,:])\n",
    "view_classify(images[0].view(1, 28, 28), ps)"
   ]
  },
  {
   "cell_type": "code",
   "execution_count": 20,
   "metadata": {},
   "outputs": [],
   "source": [
    "# Network\n",
    "model = nn.Sequential(OrderedDict([\n",
    "    ('fc1', nn.Linear(input_size, hidden_layer[0])),\n",
    "    ('relu1', nn.ReLU()),\n",
    "    ('fc2', nn.Linear(hidden_layer[0], hidden_layer[1])),\n",
    "    ('relu2', nn.ReLU()),\n",
    "    ('output', nn.Linear(hidden_layer[1], output_size)),\n",
    "    ('softmax', nn.Softmax(dim=1)),\n",
    "\n",
    "]))"
   ]
  },
  {
   "cell_type": "code",
   "execution_count": 23,
   "metadata": {},
   "outputs": [],
   "source": [
    "# define loss and optimizer \n",
    "criterion = nn.CrossEntropyLoss()\n",
    "optimizer = optim.SGD(model.parameters(), lr=0.01)\n"
   ]
  },
  {
   "cell_type": "code",
   "execution_count": 30,
   "metadata": {},
   "outputs": [
    {
     "name": "stdout",
     "output_type": "stream",
     "text": "Intial weights -  Parameter containing:\ntensor([[-0.0041,  0.0227, -0.0248,  ..., -0.0218,  0.0275,  0.0148],\n        [ 0.0066, -0.0040, -0.0055,  ..., -0.0167,  0.0173,  0.0164],\n        [-0.0208,  0.0214, -0.0348,  ..., -0.0267, -0.0339, -0.0282],\n        ...,\n        [ 0.0152, -0.0168,  0.0104,  ..., -0.0163,  0.0085,  0.0212],\n        [-0.0175,  0.0294, -0.0287,  ..., -0.0178, -0.0235, -0.0096],\n        [ 0.0194,  0.0355, -0.0019,  ...,  0.0157,  0.0023,  0.0136]],\n       requires_grad=True)\nGradient -  tensor([[ 0.0000e+00,  0.0000e+00,  0.0000e+00,  ...,  0.0000e+00,\n          0.0000e+00,  0.0000e+00],\n        [ 4.6010e-05,  4.6010e-05,  4.6010e-05,  ...,  4.6010e-05,\n          4.6010e-05,  4.6010e-05],\n        [-1.7475e-04, -1.7475e-04, -1.7475e-04,  ..., -1.7475e-04,\n         -1.7475e-04, -1.7475e-04],\n        ...,\n        [-3.2833e-04, -3.2833e-04, -3.2833e-04,  ..., -3.2833e-04,\n         -3.2833e-04, -3.2833e-04],\n        [-5.9558e-06, -5.9558e-06, -5.9558e-06,  ..., -5.9558e-06,\n         -5.9558e-06, -5.9558e-06],\n        [-5.7291e-05, -5.7291e-05, -5.7291e-05,  ..., -5.7291e-05,\n         -5.7291e-05, -5.7291e-05]])\n"
    }
   ],
   "source": [
    "print('Intial weights - ', model.fc1.weight)\n",
    "images, labels = next(iter(trainloader))\n",
    "images.resize_(64, 784)\n",
    "\n",
    "# Clear the gradients, do this because gradients are accumulated\n",
    "optimizer.zero_grad()\n",
    "\n",
    "# Forward pass, then backward pass, then update weights\n",
    "output = model.forward(images)\n",
    "loss = criterion(output, labels)\n",
    "loss.backward()\n",
    "print('Gradient - ', model.fc1.weight.grad)\n",
    "optimizer.step()"
   ]
  },
  {
   "cell_type": "code",
   "execution_count": 31,
   "metadata": {},
   "outputs": [
    {
     "name": "stdout",
     "output_type": "stream",
     "text": "Udated weights -  Parameter containing:\ntensor([[-0.0041,  0.0227, -0.0248,  ..., -0.0218,  0.0275,  0.0148],\n        [ 0.0066, -0.0040, -0.0055,  ..., -0.0167,  0.0173,  0.0164],\n        [-0.0208,  0.0214, -0.0348,  ..., -0.0267, -0.0339, -0.0282],\n        ...,\n        [ 0.0153, -0.0168,  0.0104,  ..., -0.0163,  0.0085,  0.0212],\n        [-0.0175,  0.0294, -0.0287,  ..., -0.0178, -0.0235, -0.0096],\n        [ 0.0194,  0.0355, -0.0019,  ...,  0.0157,  0.0023,  0.0136]],\n       requires_grad=True)\n"
    }
   ],
   "source": [
    "print('Udated weights - ', model.fc1.weight)"
   ]
  },
  {
   "cell_type": "code",
   "execution_count": 42,
   "metadata": {},
   "outputs": [],
   "source": [
    "optimizer = optim.SGD(model.parameters(), lr=0.01)\n"
   ]
  },
  {
   "cell_type": "code",
   "execution_count": 43,
   "metadata": {},
   "outputs": [
    {
     "name": "stdout",
     "output_type": "stream",
     "text": "Epoch: 1/3... Loss: 1.6611\nEpoch: 1/3... Loss: 1.6516\nEpoch: 1/3... Loss: 1.6379\nEpoch: 1/3... Loss: 1.6491\nEpoch: 1/3... Loss: 1.6498\nEpoch: 1/3... Loss: 1.6514\nEpoch: 1/3... Loss: 1.6455\nEpoch: 1/3... Loss: 1.6525\nEpoch: 1/3... Loss: 1.6415\nEpoch: 1/3... Loss: 1.6486\nEpoch: 1/3... Loss: 1.6422\nEpoch: 1/3... Loss: 1.6479\nEpoch: 1/3... Loss: 1.6449\nEpoch: 1/3... Loss: 1.6453\nEpoch: 1/3... Loss: 1.6462\nEpoch: 1/3... Loss: 1.6508\nEpoch: 1/3... Loss: 1.6467\nEpoch: 1/3... Loss: 1.6474\nEpoch: 1/3... Loss: 1.6351\nEpoch: 1/3... Loss: 1.6425\nEpoch: 1/3... Loss: 1.6390\nEpoch: 1/3... Loss: 1.6419\nEpoch: 1/3... Loss: 1.6411\nEpoch: 2/3... Loss: 0.9103\nEpoch: 2/3... Loss: 1.6351\nEpoch: 2/3... Loss: 1.6383\nEpoch: 2/3... Loss: 1.6447\nEpoch: 2/3... Loss: 1.6488\nEpoch: 2/3... Loss: 1.6414\nEpoch: 2/3... Loss: 1.6423\nEpoch: 2/3... Loss: 1.6543\nEpoch: 2/3... Loss: 1.6392\nEpoch: 2/3... Loss: 1.6359\nEpoch: 2/3... Loss: 1.6393\nEpoch: 2/3... Loss: 1.6373\nEpoch: 2/3... Loss: 1.6311\nEpoch: 2/3... Loss: 1.6464\nEpoch: 2/3... Loss: 1.6405\nEpoch: 2/3... Loss: 1.6418\nEpoch: 2/3... Loss: 1.6310\nEpoch: 2/3... Loss: 1.6452\nEpoch: 2/3... Loss: 1.6421\nEpoch: 2/3... Loss: 1.6387\nEpoch: 2/3... Loss: 1.6306\nEpoch: 2/3... Loss: 1.6261\nEpoch: 2/3... Loss: 1.6416\nEpoch: 3/3... Loss: 0.1623\nEpoch: 3/3... Loss: 1.6323\nEpoch: 3/3... Loss: 1.6498\nEpoch: 3/3... Loss: 1.6208\nEpoch: 3/3... Loss: 1.6251\nEpoch: 3/3... Loss: 1.6330\nEpoch: 3/3... Loss: 1.6409\nEpoch: 3/3... Loss: 1.6335\nEpoch: 3/3... Loss: 1.6393\nEpoch: 3/3... Loss: 1.6410\nEpoch: 3/3... Loss: 1.6362\nEpoch: 3/3... Loss: 1.6355\nEpoch: 3/3... Loss: 1.6446\nEpoch: 3/3... Loss: 1.6356\nEpoch: 3/3... Loss: 1.6377\nEpoch: 3/3... Loss: 1.6314\nEpoch: 3/3... Loss: 1.6380\nEpoch: 3/3... Loss: 1.6311\nEpoch: 3/3... Loss: 1.6314\nEpoch: 3/3... Loss: 1.6315\nEpoch: 3/3... Loss: 1.6276\nEpoch: 3/3... Loss: 1.6339\nEpoch: 3/3... Loss: 1.6376\nEpoch: 3/3... Loss: 1.6224\n"
    }
   ],
   "source": [
    "epochs = 3\n",
    "print_every = 40\n",
    "steps = 0\n",
    "for e in range(epochs):\n",
    "    running_loss = 0\n",
    "    for images, labels in iter(trainloader):\n",
    "        steps += 1\n",
    "        images.resize_(images.size()[0], 784)\n",
    "\n",
    "        optimizer.zero_grad()\n",
    "\n",
    "        # forward and backward passes\n",
    "        output = model.forward(images)\n",
    "        loss = criterion(output, labels)\n",
    "        loss.backward()\n",
    "        optimizer.step()\n",
    "\n",
    "        running_loss += loss.item()\n",
    "        \n",
    "        if steps % print_every == 0:\n",
    "            print('Epoch: {}/{}...'.format(e+1, epochs),\n",
    "            \"Loss: {:.4f}\".format(running_loss/print_every)\n",
    "            )\n",
    "            running_loss = 0\n"
   ]
  },
  {
   "cell_type": "code",
   "execution_count": 44,
   "metadata": {},
   "outputs": [
    {
     "data": {
      "image/png": "[encoded data removed]",
      "text/plain": "<Figure size 432x648 with 2 Axes>"
     },
     "metadata": {
      "image/png": {
       "height": 235,
       "width": 424
      },
      "needs_background": "light"
     },
     "output_type": "display_data"
    }
   ],
   "source": [
    "img = images[0].view(1, 784)\n",
    "with torch.no_grad():\n",
    "    logits = model.forward(img)\n",
    "\n",
    "prob = F.softmax(logits, dim=1)\n",
    "view_classify(img.view(1, 28, 28), prob)"
   ]
  },
  {
   "cell_type": "code",
   "execution_count": null,
   "metadata": {},
   "outputs": [],
   "source": []
  }
 ],
 "metadata": {
  "kernelspec": {
   "display_name": "Python 3",
   "language": "python",
   "name": "python3"
  },
  "language_info": {
   "codemirror_mode": {
    "name": "ipython",
    "version": 3
   },
   "file_extension": ".py",
   "mimetype": "text/x-python",
   "name": "python",
   "nbconvert_exporter": "python",
   "pygments_lexer": "ipython3",
   "version": "3.7.4"
  }
 },
 "nbformat": 4,
 "nbformat_minor": 2
}