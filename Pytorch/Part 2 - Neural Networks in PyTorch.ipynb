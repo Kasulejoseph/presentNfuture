{
 "cells": [
  {
   "cell_type": "markdown",
   "metadata": {},
   "source": [
    "# Neural networks with PyTorch\n",
    "\n",
    "Next I'll show you how to build a neural network with PyTorch."
   ]
  },
  {
   "cell_type": "code",
   "execution_count": 114,
   "metadata": {},
   "outputs": [],
   "source": [
    "# Import things like usual\n",
    "\n",
    "%matplotlib inline\n",
    "%config InlineBackend.figure_format = 'retina'\n",
    "\n",
    "import numpy as np \n",
    "import torch\n",
    "\n",
    "from Pytorch.helper import view_classify\n",
    "\n",
    "import matplotlib.pyplot as plt \n",
    "from torchvision import datasets, transforms\n"
   ]
  },
  {
   "cell_type": "markdown",
   "metadata": {},
   "source": [
    "First up, we need to get our dataset. This is provided through the `torchvision` package. The code below will download the MNIST dataset, then create training and test datasets for us. Don't worry too much about the details here, you'll learn more about this later."
   ]
  },
  {
   "cell_type": "code",
   "execution_count": 61,
   "metadata": {},
   "outputs": [
    {
     "name": "stderr",
     "output_type": "stream",
     "text": "\n\n\n\n\n0it [00:00, ?it/s]\u001b[A\u001b[A\u001b[A\u001b[A\u001b[ADownloading http://yann.lecun.com/exdb/mnist/train-images-idx3-ubyte.gz to F_MNIST_data/MNIST/raw/train-images-idx3-ubyte.gz\n\n\n\n\n\n  0%|          | 0/9912422 [00:00<?, ?it/s]\u001b[A\u001b[A\u001b[A\u001b[A\u001b[A\n\n\n\n\n  0%|          | 16384/9912422 [00:00<02:29, 66233.34it/s]\u001b[A\u001b[A\u001b[A\u001b[A\u001b[A\n\n\n\n\n  0%|          | 40960/9912422 [00:00<02:11, 75345.54it/s]\u001b[A\u001b[A\u001b[A\u001b[A\u001b[A\n\n\n\n\n  1%|          | 98304/9912422 [00:01<01:42, 95931.12it/s]\u001b[A\u001b[A\u001b[A\u001b[A\u001b[A\n\n\n\n\n  2%|▏         | 155648/9912422 [00:01<01:22, 117975.63it/s]\u001b[A\u001b[A\u001b[A\u001b[A\u001b[A\n\n\n\n\n  2%|▏         | 221184/9912422 [00:01<01:07, 144493.53it/s]\u001b[A\u001b[A\u001b[A\u001b[A\u001b[A\n\n\n\n\n  3%|▎         | 278528/9912422 [00:01<00:58, 165835.16it/s]\u001b[A\u001b[A\u001b[A\u001b[A\u001b[A\n\n\n\n\n  3%|▎         | 344064/9912422 [00:02<00:50, 189822.88it/s]\u001b[A\u001b[A\u001b[A\u001b[A\u001b[A\n\n\n\n\n  4%|▍         | 417792/9912422 [00:02<00:43, 218772.97it/s]\u001b[A\u001b[A\u001b[A\u001b[A\u001b[A\n\n\n\n\n  5%|▍         | 491520/9912422 [00:02<00:38, 245195.43it/s]\u001b[A\u001b[A\u001b[A\u001b[A\u001b[A\n\n\n\n\n  6%|▌         | 565248/9912422 [00:02<00:34, 267845.91it/s]\u001b[A\u001b[A\u001b[A\u001b[A\u001b[A\n\n\n\n\n  7%|▋         | 647168/9912422 [00:02<00:31, 293699.60it/s]\u001b[A\u001b[A\u001b[A\u001b[A\u001b[A\n\n\n\n\n  7%|▋         | 729088/9912422 [00:03<00:29, 314840.73it/s]\u001b[A\u001b[A\u001b[A\u001b[A\u001b[A\n\n\n\n\n  8%|▊         | 811008/9912422 [00:03<00:23, 380937.14it/s]\u001b[A\u001b[A\u001b[A\u001b[A\u001b[A\n\n\n\n\n  9%|▊         | 860160/9912422 [00:03<00:22, 399767.54it/s]\u001b[A\u001b[A\u001b[A\u001b[A\u001b[A\n\n\n\n\n  9%|▉         | 909312/9912422 [00:03<00:27, 327917.50it/s]\u001b[A\u001b[A\u001b[A\u001b[A\u001b[A\n\n\n\n\n 10%|█         | 999424/9912422 [00:03<00:22, 396488.95it/s]\u001b[A\u001b[A\u001b[A\u001b[A\u001b[A\n\n\n\n\n 11%|█         | 1056768/9912422 [00:03<00:20, 425290.18it/s]\u001b[A\u001b[A\u001b[A\u001b[A\u001b[A\n\n\n\n\n 11%|█         | 1114112/9912422 [00:04<00:24, 366355.34it/s]\u001b[A\u001b[A\u001b[A\u001b[A\u001b[A\n\n\n\n\n 12%|█▏        | 1204224/9912422 [00:04<00:19, 437458.78it/s]\u001b[A\u001b[A\u001b[A\u001b[A\u001b[A\n\n\n\n\n 13%|█▎        | 1261568/9912422 [00:04<00:18, 457277.37it/s]\u001b[A\u001b[A\u001b[A\u001b[A\u001b[A\n\n\n\n\n 13%|█▎        | 1318912/9912422 [00:04<00:17, 482679.85it/s]\u001b[A\u001b[A\u001b[A\u001b[A\u001b[A\n\n\n\n\n 14%|█▍        | 1376256/9912422 [00:04<00:17, 490742.58it/s]\u001b[A\u001b[A\u001b[A\u001b[A\u001b[A\n\n\n\n\n 14%|█▍        | 1433600/9912422 [00:04<00:16, 508065.57it/s]\u001b[A\u001b[A\u001b[A\u001b[A\u001b[A\n\n\n\n\n 15%|█▌        | 1490944/9912422 [00:04<00:16, 508915.97it/s]\u001b[A\u001b[A\u001b[A\u001b[A\u001b[A\n\n\n\n\n 16%|█▌        | 1548288/9912422 [00:04<00:16, 521425.25it/s]\u001b[A\u001b[A\u001b[A\u001b[A\u001b[A\n\n\n\n\n 16%|█▌        | 1605632/9912422 [00:04<00:15, 523826.62it/s]\u001b[A\u001b[A\u001b[A\u001b[A\u001b[A\n\n\n\n\n 17%|█▋        | 1679360/9912422 [00:05<00:14, 563218.94it/s]\u001b[A\u001b[A\u001b[A\u001b[A\u001b[A\n\n\n\n\n 18%|█▊        | 1744896/9912422 [00:05<00:14, 566033.77it/s]\u001b[A\u001b[A\u001b[A\u001b[A\u001b[A\n\n\n\n\n 18%|█▊        | 1810432/9912422 [00:05<00:13, 587387.09it/s]\u001b[A\u001b[A\u001b[A\u001b[A\u001b[A\n\n\n\n\n 19%|█▉        | 1875968/9912422 [00:05<00:13, 593539.88it/s]\u001b[A\u001b[A\u001b[A\u001b[A\u001b[A\n\n\n\n\n 20%|█▉        | 1957888/9912422 [00:05<00:12, 633593.24it/s]\u001b[A\u001b[A\u001b[A\u001b[A\u001b[A\n\n\n\n\n 20%|██        | 2023424/9912422 [00:05<00:12, 625841.78it/s]\u001b[A\u001b[A\u001b[A\u001b[A\u001b[A\n\n\n\n\n 21%|██        | 2105344/9912422 [00:05<00:11, 661579.90it/s]\u001b[A\u001b[A\u001b[A\u001b[A\u001b[A\n\n\n\n\n 22%|██▏       | 2179072/9912422 [00:05<00:11, 661126.71it/s]\u001b[A\u001b[A\u001b[A\u001b[A\u001b[A\n\n\n\n\n 23%|██▎       | 2260992/9912422 [00:05<00:11, 694106.25it/s]\u001b[A\u001b[A\u001b[A\u001b[A\u001b[A\n\n\n\n\n 24%|██▎       | 2334720/9912422 [00:05<00:10, 688994.08it/s]\u001b[A\u001b[A\u001b[A\u001b[A\u001b[A\n\n\n\n\n 24%|██▍       | 2416640/9912422 [00:06<00:10, 709091.99it/s]\u001b[A\u001b[A\u001b[A\u001b[A\u001b[A\n\n\n\n\n 25%|██▌       | 2490368/9912422 [00:06<00:10, 700446.60it/s]\u001b[A\u001b[A\u001b[A\u001b[A\u001b[A\n\n\n\n\n 26%|██▌       | 2588672/9912422 [00:06<00:09, 752865.23it/s]\u001b[A\u001b[A\u001b[A\u001b[A\u001b[A\n\n\n\n\n 27%|██▋       | 2670592/9912422 [00:06<00:09, 753671.43it/s]\u001b[A\u001b[A\u001b[A\u001b[A\u001b[A\n\n\n\n\n 28%|██▊       | 2768896/9912422 [00:06<00:08, 795903.80it/s]\u001b[A\u001b[A\u001b[A\u001b[A\u001b[A\n\n\n\n\n 29%|██▉       | 2850816/9912422 [00:06<00:09, 783516.48it/s]\u001b[A\u001b[A\u001b[A\u001b[A\u001b[A\n\n\n\n\n 30%|██▉       | 2965504/9912422 [00:06<00:08, 848744.60it/s]\u001b[A\u001b[A\u001b[A\u001b[A\u001b[A\n\n\n\n\n 31%|███       | 3055616/9912422 [00:06<00:08, 846178.85it/s]\u001b[A\u001b[A\u001b[A\u001b[A\u001b[A\n\n\n\n\n 32%|███▏      | 3162112/9912422 [00:06<00:07, 880925.02it/s]\u001b[A\u001b[A\u001b[A\u001b[A\u001b[A\n\n\n\n\n 33%|███▎      | 3252224/9912422 [00:07<00:07, 869204.61it/s]\u001b[A\u001b[A\u001b[A\u001b[A\u001b[A\n\n\n\n\n 34%|███▍      | 3366912/9912422 [00:07<00:07, 912251.86it/s]\u001b[A\u001b[A\u001b[A\u001b[A\u001b[A\n\n\n\n\n 35%|███▍      | 3465216/9912422 [00:07<00:07, 917163.40it/s]\u001b[A\u001b[A\u001b[A\u001b[A\u001b[A\n\n\n\n\n 36%|███▌      | 3579904/9912422 [00:07<00:06, 951904.45it/s]\u001b[A\u001b[A\u001b[A\u001b[A\u001b[A\n\n\n\n\n 37%|███▋      | 3678208/9912422 [00:07<00:06, 935089.28it/s]\u001b[A\u001b[A\u001b[A\u001b[A\u001b[A\n\n\n\n\n 38%|███▊      | 3801088/9912422 [00:07<00:06, 990946.62it/s]\u001b[A\u001b[A\u001b[A\u001b[A\u001b[A\n\n\n\n\n 39%|███▉      | 3907584/9912422 [00:07<00:06, 969318.42it/s]\u001b[A\u001b[A\u001b[A\u001b[A\u001b[A\n\n\n\n\n 41%|████      | 4038656/9912422 [00:07<00:05, 1048416.50it/s]\u001b[A\u001b[A\u001b[A\u001b[A\u001b[A\n\n\n\n\n 42%|████▏     | 4153344/9912422 [00:07<00:05, 1029954.16it/s]\u001b[A\u001b[A\u001b[A\u001b[A\u001b[A\n\n\n\n\n 43%|████▎     | 4284416/9912422 [00:08<00:05, 1099564.88it/s]\u001b[A\u001b[A\u001b[A\u001b[A\u001b[A\n\n\n\n\n 44%|████▍     | 4399104/9912422 [00:08<00:05, 1067751.77it/s]\u001b[A\u001b[A\u001b[A\u001b[A\u001b[A\n\n\n\n\n 46%|████▌     | 4554752/9912422 [00:08<00:04, 1175933.32it/s]\u001b[A\u001b[A\u001b[A\u001b[A\u001b[A\n\n\n\n\n 47%|████▋     | 4677632/9912422 [00:08<00:04, 1138658.72it/s]\u001b[A\u001b[A\u001b[A\u001b[A\u001b[A\n\n\n\n\n 49%|████▉     | 4833280/9912422 [00:08<00:04, 1236921.91it/s]\u001b[A\u001b[A\u001b[A\u001b[A\u001b[A\n\n\n\n\n 50%|█████     | 4964352/9912422 [00:08<00:04, 1180607.00it/s]\u001b[A\u001b[A\u001b[A\u001b[A\u001b[A\n\n\n\n\n 52%|█████▏    | 5144576/9912422 [00:08<00:04, 1094096.92it/s]\u001b[A\u001b[A\u001b[A\u001b[A\u001b[A\n\n\n\n\n 55%|█████▍    | 5414912/9912422 [00:08<00:03, 1297415.71it/s]\u001b[A\u001b[A\u001b[A\u001b[A\u001b[A\n\n\n\n\n 56%|█████▌    | 5570560/9912422 [00:09<00:03, 1318530.87it/s]\u001b[A\u001b[A\u001b[A\u001b[A\u001b[A\n\n\n\n\n 58%|█████▊    | 5734400/9912422 [00:09<00:02, 1392949.44it/s]\u001b[A\u001b[A\u001b[A\u001b[A\u001b[A\n\n\n\n\n 59%|█████▉    | 5890048/9912422 [00:09<00:02, 1389914.70it/s]\u001b[A\u001b[A\u001b[A\u001b[A\u001b[A\n\n\n\n\n 61%|██████▏   | 6078464/9912422 [00:09<00:02, 1489880.61it/s]\u001b[A\u001b[A\u001b[A\u001b[A\u001b[A\n\n\n\n\n 63%|██████▎   | 6242304/9912422 [00:09<00:02, 1488040.24it/s]\u001b[A\u001b[A\u001b[A\u001b[A\u001b[A\n\n\n\n\n 65%|██████▌   | 6447104/9912422 [00:09<00:02, 1595808.15it/s]\u001b[A\u001b[A\u001b[A\u001b[A\u001b[A\n\n\n\n\n 67%|██████▋   | 6619136/9912422 [00:09<00:02, 1504294.32it/s]\u001b[A\u001b[A\u001b[A\u001b[A\u001b[A\n\n\n\n\n 70%|██████▉   | 6897664/9912422 [00:09<00:02, 1493588.81it/s]\u001b[A\u001b[A\u001b[A\u001b[A\u001b[A\n\n\n\n\n 73%|███████▎  | 7249920/9912422 [00:09<00:01, 1771138.76it/s]\u001b[A\u001b[A\u001b[A\u001b[A\u001b[A\n\n\n\n\n 75%|███████▌  | 7454720/9912422 [00:10<00:01, 1769875.40it/s]\u001b[A\u001b[A\u001b[A\u001b[A\u001b[A\n\n\n\n\n 78%|███████▊  | 7708672/9912422 [00:10<00:01, 1945883.93it/s]\u001b[A\u001b[A\u001b[A\u001b[A\u001b[A\n\n\n\n\n 80%|███████▉  | 7921664/9912422 [00:10<00:01, 1912035.59it/s]\u001b[A\u001b[A\u001b[A\u001b[A\u001b[A\n\n\n\n\n 83%|████████▎ | 8192000/9912422 [00:10<00:00, 2095170.48it/s]\u001b[A\u001b[A\u001b[A\u001b[A\u001b[A\n\n\n\n\n 85%|████████▍ | 8421376/9912422 [00:10<00:00, 1980478.45it/s]\u001b[A\u001b[A\u001b[A\u001b[A\u001b[A\n\n\n\n\n 89%|████████▊ | 8790016/9912422 [00:10<00:00, 1970353.66it/s]\u001b[A\u001b[A\u001b[A\u001b[A\u001b[A\n\n\n\n\n 93%|█████████▎| 9248768/9912422 [00:10<00:00, 2332160.43it/s]\u001b[A\u001b[A\u001b[A\u001b[A\u001b[A\n\n\n\n\n 96%|█████████▌| 9519104/9912422 [00:10<00:00, 2236974.55it/s]\u001b[A\u001b[A\u001b[A\u001b[A\u001b[A\n\n\n\n\n100%|█████████▉| 9912320/9912422 [00:11<00:00, 2352088.27it/s]\u001b[A\u001b[A\u001b[A\u001b[A\u001b[AExtracting F_MNIST_data/MNIST/raw/train-images-idx3-ubyte.gz to F_MNIST_data/MNIST/raw\n\n\n\n\n\n\n0it [00:00, ?it/s]\u001b[A\u001b[A\u001b[A\u001b[A\u001b[A\u001b[ADownloading http://yann.lecun.com/exdb/mnist/train-labels-idx1-ubyte.gz to F_MNIST_data/MNIST/raw/train-labels-idx1-ubyte.gz\n\n\n\n\n\n\n  0%|          | 0/28881 [00:00<?, ?it/s]\u001b[A\u001b[A\u001b[A\u001b[A\u001b[A\u001b[A\n\n\n\n\n\n32768it [00:00, 49179.26it/s]\n\n\n\n\n\n\n0it [00:00, ?it/s]\u001b[A\u001b[A\u001b[A\u001b[A\u001b[A\u001b[AExtracting F_MNIST_data/MNIST/raw/train-labels-idx1-ubyte.gz to F_MNIST_data/MNIST/raw\nDownloading http://yann.lecun.com/exdb/mnist/t10k-images-idx3-ubyte.gz to F_MNIST_data/MNIST/raw/t10k-images-idx3-ubyte.gz\n\n\n\n\n\n\n  0%|          | 0/1648877 [00:00<?, ?it/s]\u001b[A\u001b[A\u001b[A\u001b[A\u001b[A\u001b[A\n\n\n\n\n\n  1%|          | 16384/1648877 [00:00<00:24, 66306.58it/s]\u001b[A\u001b[A\u001b[A\u001b[A\u001b[A\u001b[A\n\n\n\n\n\n  2%|▏         | 40960/1648877 [00:00<00:21, 75782.86it/s]\u001b[A\u001b[A\u001b[A\u001b[A\u001b[A\u001b[A\n\n\n\n\n\n  6%|▌         | 98304/1648877 [00:01<00:16, 95873.04it/s]\u001b[A\u001b[A\u001b[A\u001b[A\u001b[A\u001b[A\n\n\n\n\n\n  9%|▉         | 155648/1648877 [00:01<00:12, 119503.09it/s]\u001b[A\u001b[A\u001b[A\u001b[A\u001b[A\u001b[A\n\n\n\n\n\n 13%|█▎        | 221184/1648877 [00:01<00:09, 146000.26it/s]\u001b[A\u001b[A\u001b[A\u001b[A\u001b[A\u001b[A\n\n\n\n\n\n 17%|█▋        | 278528/1648877 [00:01<00:08, 169107.38it/s]\u001b[A\u001b[A\u001b[A\u001b[A\u001b[A\u001b[A\n\n\n\n\n\n 21%|██        | 344064/1648877 [00:02<00:06, 195192.50it/s]\u001b[A\u001b[A\u001b[A\u001b[A\u001b[A\u001b[A\n\n\n\n\n\n 25%|██▌       | 417792/1648877 [00:02<00:05, 223930.29it/s]\u001b[A\u001b[A\u001b[A\u001b[A\u001b[A\u001b[A\n\n\n\n\n\n 30%|██▉       | 491520/1648877 [00:02<00:04, 249902.38it/s]\u001b[A\u001b[A\u001b[A\u001b[A\u001b[A\u001b[A\n\n\n\n\n\n 34%|███▍      | 565248/1648877 [00:02<00:03, 272349.53it/s]\u001b[A\u001b[A\u001b[A\u001b[A\u001b[A\u001b[A\n\n\n\n\n\n 39%|███▉      | 647168/1648877 [00:02<00:03, 297336.41it/s]\u001b[A\u001b[A\u001b[A\u001b[A\u001b[A\u001b[A\n\n\n\n\n\n 44%|████▍     | 729088/1648877 [00:03<00:02, 318742.38it/s]\u001b[A\u001b[A\u001b[A\u001b[A\u001b[A\u001b[A\n\n\n\n\n\n 49%|████▉     | 811008/1648877 [00:03<00:02, 382881.17it/s]\u001b[A\u001b[A\u001b[A\u001b[A\u001b[A\u001b[A\n\n\n\n\n\n 52%|█████▏    | 860160/1648877 [00:03<00:01, 397825.96it/s]\u001b[A\u001b[A\u001b[A\u001b[A\u001b[A\u001b[A\n\n\n\n\n\n 55%|█████▌    | 909312/1648877 [00:03<00:02, 332614.17it/s]\u001b[A\u001b[A\u001b[A\u001b[A\u001b[A\u001b[A\n\n\n\n\n\n 60%|██████    | 991232/1648877 [00:03<00:01, 396317.47it/s]\u001b[A\u001b[A\u001b[A\u001b[A\u001b[A\u001b[A\n\n\n\n\n\n 63%|██████▎   | 1040384/1648877 [00:03<00:01, 409201.08it/s]\u001b[A\u001b[A\u001b[A\u001b[A\u001b[A\u001b[A\n\n\n\n\n\n 66%|██████▌   | 1089536/1648877 [00:03<00:01, 426047.87it/s]\u001b[A\u001b[A\u001b[A\u001b[A\u001b[A\u001b[A\n\n\n\n\n\n 69%|██████▉   | 1138688/1648877 [00:03<00:01, 432223.14it/s]\u001b[A\u001b[A\u001b[A\u001b[A\u001b[A\u001b[A\n\n\n\n\n\n 73%|███████▎  | 1196032/1648877 [00:04<00:00, 460750.49it/s]\u001b[A\u001b[A\u001b[A\u001b[A\u001b[A\u001b[A\n\n\n\n\n\n 76%|███████▌  | 1245184/1648877 [00:04<00:00, 455497.43it/s]\u001b[A\u001b[A\u001b[A\u001b[A\u001b[A\u001b[A\n\n\n\n\n\n 79%|███████▉  | 1310720/1648877 [00:04<00:00, 495659.20it/s]\u001b[A\u001b[A\u001b[A\u001b[A\u001b[A\u001b[A\n\n\n\n\n\n 83%|████████▎ | 1368064/1648877 [00:04<00:00, 501137.20it/s]\u001b[A\u001b[A\u001b[A\u001b[A\u001b[A\u001b[A\n\n\n\n\n\n 86%|████████▋ | 1425408/1648877 [00:04<00:00, 516964.85it/s]\u001b[A\u001b[A\u001b[A\u001b[A\u001b[A\u001b[A\n\n\n\n\n\n 90%|████████▉ | 1482752/1648877 [00:04<00:00, 514199.46it/s]\u001b[A\u001b[A\u001b[A\u001b[A\u001b[A\u001b[A\n\n\n\n\n\n 94%|█████████▍| 1548288/1648877 [00:04<00:00, 546789.12it/s]\u001b[A\u001b[A\u001b[A\u001b[A\u001b[A\u001b[A\n\n\n\n\n\n 97%|█████████▋| 1605632/1648877 [00:04<00:00, 531880.01it/s]\u001b[A\u001b[A\u001b[A\u001b[A\u001b[A\u001b[A\n\n\n\n\n\n\n0it [00:00, ?it/s]\u001b[A\u001b[A\u001b[A\u001b[A\u001b[A\u001b[A\u001b[AExtracting F_MNIST_data/MNIST/raw/t10k-images-idx3-ubyte.gz to F_MNIST_data/MNIST/raw\nDownloading http://yann.lecun.com/exdb/mnist/t10k-labels-idx1-ubyte.gz to F_MNIST_data/MNIST/raw/t10k-labels-idx1-ubyte.gz\n\n\n\n\n\n\n\n8192it [00:00, 18418.88it/s]Extracting F_MNIST_data/MNIST/raw/t10k-labels-idx1-ubyte.gz to F_MNIST_data/MNIST/raw\nProcessing...\nDone!\n\n"
    }
   ],
   "source": [
    "# Define a transform to normalize the data\n",
    "transform = transforms.Compose([transforms.ToTensor(),\n",
    "    transforms.Normalize([0.5], [0.5])\n",
    "])\n",
    "\n",
    "# Download and load the training data\n",
    "trainset = datasets.MNIST('F_MNIST_data/', download=True, train=True, transform=transform)\n",
    "trainloader = torch.utils.data.DataLoader(trainset, batch_size=64, shuffle=True)\n",
    "\n",
    "# Download and load the test data\n",
    "testset = datasets.MNIST('F_MNIST_data/', download=True, train=False, transform=transform)\n",
    "testloader = torch.utils.data.DataLoader(trainset, batch_size=64, shuffle=True)\n",
    "\n"
   ]
  },
  {
   "cell_type": "code",
   "execution_count": 72,
   "metadata": {},
   "outputs": [],
   "source": [
    "# we make the trainloader data an iterator with iter(trainloader). whixh will help us to loop through the dataset for training.\n",
    "dataiter = iter(trainloader)\n",
    "images, labels = dataiter.next()"
   ]
  },
  {
   "cell_type": "markdown",
   "metadata": {},
   "source": [
    "We have the training data loaded into `trainloader` and we make that an iterator with `iter(trainloader)`. We'd use this to loop through the dataset for training, but here I'm just grabbing the first batch so we can check out the data. We can see below that `images` is just a tensor with size (64, 1, 28, 28). So, 64 images per batch, 1 color channel, and 28x28 images."
   ]
  },
  {
   "cell_type": "code",
   "execution_count": 73,
   "metadata": {},
   "outputs": [
    {
     "data": {
      "image/png": "[encoded data removed]",
      "text/plain": "<Figure size 432x288 with 1 Axes>"
     },
     "metadata": {
      "image/png": {
       "height": 248,
       "width": 251
      },
      "needs_background": "light"
     },
     "output_type": "display_data"
    }
   ],
   "source": [
    "plt.imshow(images[1].numpy().squeeze(), cmap='Greys_r');"
   ]
  },
  {
   "cell_type": "markdown",
   "metadata": {},
   "source": [
    "## Building networks with PyTorch\n",
    "\n",
    "Here I'll use PyTorch to build a simple feedfoward network to classify the MNIST images. That is, the network will receive a digit image as input and predict the digit in the image.\n",
    "\n",
    "<img src=\"assets/mlp_mnist.png\" width=600px>\n",
    "\n",
    "To build a neural network with PyTorch, you use the `torch.nn` module. The network itself is a class inheriting from `torch.nn.Module`. You define each of the operations separately, like `nn.Linear(784, 128)` for a fully connected linear layer with 784 inputs and 128 units.\n",
    "\n",
    "The class needs to include a `forward` method that implements the forward pass through the network. In this method, you pass some input tensor `x` through each of the operations you defined earlier. The `torch.nn` module also has functional equivalents for things like ReLUs in `torch.nn.functional`. This module is usually imported as `F`. Then to use a ReLU activation on some layer (which is just a tensor), you'd do `F.relu(x)`. Below are a few different commonly used activation functions.\n",
    "\n",
    "<img src=\"assets/activation.png\" width=700px>\n",
    "\n",
    "So, for this network, I'll build it with three fully connected layers, then a softmax output for predicting classes. The softmax function is similar to the sigmoid in that it squashes inputs between 0 and 1, but it's also normalized so that all the values sum to one like a proper probability distribution."
   ]
  },
  {
   "cell_type": "code",
   "execution_count": 74,
   "metadata": {},
   "outputs": [],
   "source": [
    "from torch import nn, optim\n",
    "import torch.nn.functional as F"
   ]
  },
  {
   "cell_type": "code",
   "execution_count": 106,
   "metadata": {},
   "outputs": [
    {
     "data": {
      "text/plain": "Network(\n  (fc1): Linear(in_features=784, out_features=128, bias=True)\n  (fc2): Linear(in_features=128, out_features=64, bias=True)\n  (fc3): Linear(in_features=64, out_features=10, bias=True)\n)"
     },
     "execution_count": 106,
     "metadata": {},
     "output_type": "execute_result"
    }
   ],
   "source": [
    "class Network(nn.Module):\n",
    "    def __init__(self):\n",
    "        super().__init__()\n",
    "        # Defining layers, 128, 64, 10 units each\n",
    "        self.fc1 = nn.Linear(784, 128)\n",
    "        self.fc2 = nn.Linear(128, 64)\n",
    "        # Output layer, 10 units - one for each digit\n",
    "        self.fc3 = nn.Linear(64, 10)\n",
    "\n",
    "    def forward(self, x):\n",
    "        \"\"\"Forward pass through the network, returns the output digits\"\"\"\n",
    "        x = self.fc1(x)\n",
    "        x = F.relu(x)\n",
    "        x = self.fc2(x)\n",
    "        x = F.relu(x)\n",
    "        x = self.fc3(x)\n",
    "        x = F.softmax(x, dim=1)\n",
    "\n",
    "        return x\n",
    "\n",
    "model = Network()\n",
    "model\n"
   ]
  },
  {
   "cell_type": "markdown",
   "metadata": {},
   "source": [
    "### Initializing weights and biases\n",
    "\n",
    "The weights and such are automatically initialized for you, but it's possible to customize how they are initialized. The weights and biases are tensors attached to the layer you defined, you can get them with `model.fc1.weight` for instance."
   ]
  },
  {
   "cell_type": "code",
   "execution_count": 84,
   "metadata": {},
   "outputs": [
    {
     "name": "stdout",
     "output_type": "stream",
     "text": "Parameter containing:\ntensor([[ 0.0348, -0.0025,  0.0326,  ..., -0.0252, -0.0099, -0.0039],\n        [-0.0157,  0.0125, -0.0354,  ..., -0.0328,  0.0350,  0.0142],\n        [-0.0300, -0.0004, -0.0348,  ...,  0.0220, -0.0262, -0.0238],\n        ...,\n        [ 0.0208,  0.0338, -0.0349,  ...,  0.0261, -0.0068, -0.0217],\n        [ 0.0101, -0.0039,  0.0038,  ...,  0.0068, -0.0125, -0.0003],\n        [-0.0205, -0.0265, -0.0159,  ...,  0.0004,  0.0213,  0.0067]],\n       requires_grad=True)\nParameter containing:\ntensor([-0.0351,  0.0323, -0.0192, -0.0253,  0.0189,  0.0014, -0.0169, -0.0074,\n         0.0145,  0.0255, -0.0037,  0.0333,  0.0268,  0.0113, -0.0245,  0.0125,\n         0.0057, -0.0161, -0.0067, -0.0213,  0.0234,  0.0316, -0.0077, -0.0121,\n        -0.0116, -0.0085,  0.0282,  0.0029,  0.0277, -0.0292, -0.0245,  0.0276,\n         0.0271,  0.0314,  0.0233,  0.0100, -0.0268,  0.0173, -0.0131,  0.0341,\n         0.0218, -0.0334,  0.0310, -0.0007,  0.0267, -0.0038, -0.0321, -0.0284,\n         0.0253,  0.0138,  0.0173, -0.0291,  0.0273,  0.0176,  0.0238, -0.0186,\n        -0.0135, -0.0230,  0.0241, -0.0195,  0.0031,  0.0071,  0.0179,  0.0285,\n         0.0239,  0.0048, -0.0067, -0.0161,  0.0340,  0.0141, -0.0005,  0.0035,\n        -0.0285, -0.0231,  0.0006, -0.0105,  0.0261,  0.0229,  0.0082, -0.0155,\n        -0.0180, -0.0285, -0.0262, -0.0216,  0.0103,  0.0268,  0.0319,  0.0311,\n         0.0348, -0.0010,  0.0282, -0.0278, -0.0016,  0.0012, -0.0083,  0.0315,\n         0.0026, -0.0193, -0.0294,  0.0096,  0.0076,  0.0150, -0.0239, -0.0071,\n         0.0176, -0.0017, -0.0170, -0.0310,  0.0128, -0.0349, -0.0122,  0.0242,\n         0.0209, -0.0050, -0.0037, -0.0339, -0.0345, -0.0168, -0.0340,  0.0111,\n        -0.0217,  0.0157, -0.0219,  0.0239,  0.0032, -0.0327, -0.0048,  0.0313],\n       requires_grad=True)\n"
    }
   ],
   "source": [
    "print(model.fc1.weight)\n",
    "print(model.fc1.bias)"
   ]
  },
  {
   "cell_type": "markdown",
   "metadata": {},
   "source": [
    "For custom initialization, we want to modify these tensors in place. These are actually autograd *Variables*, so we need to get back the actual tensors with `model.fc1.weight.data`. Once we have the tensors, we can fill them with zeros (for biases) or random normal values."
   ]
  },
  {
   "cell_type": "code",
   "execution_count": 86,
   "metadata": {},
   "outputs": [
    {
     "data": {
      "text/plain": "tensor([0., 0., 0., 0., 0., 0., 0., 0., 0., 0., 0., 0., 0., 0., 0., 0., 0., 0., 0., 0., 0., 0., 0., 0.,\n        0., 0., 0., 0., 0., 0., 0., 0., 0., 0., 0., 0., 0., 0., 0., 0., 0., 0., 0., 0., 0., 0., 0., 0.,\n        0., 0., 0., 0., 0., 0., 0., 0., 0., 0., 0., 0., 0., 0., 0., 0., 0., 0., 0., 0., 0., 0., 0., 0.,\n        0., 0., 0., 0., 0., 0., 0., 0., 0., 0., 0., 0., 0., 0., 0., 0., 0., 0., 0., 0., 0., 0., 0., 0.,\n        0., 0., 0., 0., 0., 0., 0., 0., 0., 0., 0., 0., 0., 0., 0., 0., 0., 0., 0., 0., 0., 0., 0., 0.,\n        0., 0., 0., 0., 0., 0., 0., 0.])"
     },
     "execution_count": 86,
     "metadata": {},
     "output_type": "execute_result"
    }
   ],
   "source": [
    "# Set biases to all zeros\n",
    "model.fc1.bias.data.fill_(0)"
   ]
  },
  {
   "cell_type": "code",
   "execution_count": 87,
   "metadata": {},
   "outputs": [
    {
     "data": {
      "text/plain": "tensor([[ 0.0075,  0.0134, -0.0091,  ...,  0.0095, -0.0086,  0.0049],\n        [ 0.0114, -0.0084, -0.0176,  ..., -0.0009, -0.0015, -0.0058],\n        [-0.0006, -0.0064,  0.0211,  ..., -0.0002,  0.0010,  0.0130],\n        ...,\n        [ 0.0043, -0.0064, -0.0045,  ..., -0.0055,  0.0051,  0.0031],\n        [ 0.0095,  0.0183,  0.0013,  ...,  0.0143, -0.0092, -0.0080],\n        [ 0.0050,  0.0056, -0.0151,  ..., -0.0158,  0.0044,  0.0063]])"
     },
     "execution_count": 87,
     "metadata": {},
     "output_type": "execute_result"
    }
   ],
   "source": [
    "# sample from random normal with standard dev = 0.01\n",
    "model.fc1.weight.data.normal_(std=0.01)"
   ]
  },
  {
   "cell_type": "markdown",
   "metadata": {},
   "source": [
    "### Forward pass\n",
    "\n",
    "Now that we have a network, let's see what happens when we pass in an image. This is called the forward pass. We're going to convert the image data into a tensor, then pass it through the operations defined by the network architecture."
   ]
  },
  {
   "cell_type": "code",
   "execution_count": 110,
   "metadata": {},
   "outputs": [
    {
     "data": {
      "text/plain": "tensor([[0.0895, 0.0903, 0.1097, 0.0829, 0.1023, 0.1072, 0.1093, 0.1041, 0.0979,\n         0.1067]], grad_fn=<SoftmaxBackward>)"
     },
     "execution_count": 110,
     "metadata": {},
     "output_type": "execute_result"
    }
   ],
   "source": [
    "# Grab some data \n",
    "dataiter = iter(trainloader)\n",
    "images, labels = dataiter.next()\n",
    "# Resize images into a 1D vector, new shape is (batch size, color channels, image pixels) \n",
    "images.resize_(64, 1, 784)\n",
    "# or images.resize_(images.shape[0], 1, 784) to not automatically get batch size\n",
    "\n",
    "# Forward pass through the network\n",
    "img_idk = 0\n",
    "prob = model.forward(images[img_idk,:])\n",
    "view_classify(images[img_idk].view(1, 28, 28), prob)"
   ]
  },
  {
   "cell_type": "markdown",
   "metadata": {},
   "source": [
    "As you can see above, our network has basically no idea what this digit is. It's because we haven't trained it yet, all the weights are random!\n",
    "\n",
    "PyTorch provides a convenient way to build networks like this where a tensor is passed sequentially through operations, `nn.Sequential` ([documentation](https://pytorch.org/docs/master/nn.html#torch.nn.Sequential)). Using this to build the equivalent network:"
   ]
  },
  {
   "cell_type": "code",
   "execution_count": 53,
   "metadata": {},
   "outputs": [],
   "source": [
    "# Hyperparameters for our network\n",
    "\n",
    "\n",
    "# Build a feed-forward network\n",
    "\n",
    "\n",
    "# Forward pass through the network and display output\n"
   ]
  },
  {
   "cell_type": "markdown",
   "metadata": {},
   "source": [
    "You can also pass in an `OrderedDict` to name the individual layers and operations. Note that a dictionary keys must be unique, so _each operation must have a different name_."
   ]
  },
  {
   "cell_type": "code",
   "execution_count": 54,
   "metadata": {},
   "outputs": [],
   "source": [
    "from collections import OrderedDict\n"
   ]
  },
  {
   "cell_type": "markdown",
   "metadata": {},
   "source": [
    "Now it's your turn to build a simple network, use any method I've covered so far. In the next notebook, you'll learn how to train a network so it can make good predictions.\n",
    "\n",
    ">**Exercise:** Build a network to classify the MNIST images with _three_ hidden layers. Use 400 units in the first hidden layer, 200 units in the second layer, and 100 units in the third layer. Each hidden layer should have a ReLU activation function, and use softmax on the output layer. "
   ]
  },
  {
   "cell_type": "code",
   "execution_count": 55,
   "metadata": {},
   "outputs": [],
   "source": [
    "## TODO: Your network here"
   ]
  },
  {
   "cell_type": "code",
   "execution_count": 56,
   "metadata": {},
   "outputs": [
    {
     "ename": "NameError",
     "evalue": "name 'helper' is not defined",
     "output_type": "error",
     "traceback": [
      "\u001b[0;31m---------------------------------------------------------------------------\u001b[0m",
      "\u001b[0;31mNameError\u001b[0m                                 Traceback (most recent call last)",
      "\u001b[0;32m<ipython-input-56-1edef285f905>\u001b[0m in \u001b[0;36m<module>\u001b[0;34m\u001b[0m\n\u001b[1;32m      4\u001b[0m \u001b[0mimages\u001b[0m\u001b[0;34m.\u001b[0m\u001b[0mresize_\u001b[0m\u001b[0;34m(\u001b[0m\u001b[0mimages\u001b[0m\u001b[0;34m.\u001b[0m\u001b[0mshape\u001b[0m\u001b[0;34m[\u001b[0m\u001b[0;36m0\u001b[0m\u001b[0;34m]\u001b[0m\u001b[0;34m,\u001b[0m \u001b[0;36m1\u001b[0m\u001b[0;34m,\u001b[0m \u001b[0;36m784\u001b[0m\u001b[0;34m)\u001b[0m\u001b[0;34m\u001b[0m\u001b[0;34m\u001b[0m\u001b[0m\n\u001b[1;32m      5\u001b[0m \u001b[0mps\u001b[0m \u001b[0;34m=\u001b[0m \u001b[0mmodel\u001b[0m\u001b[0;34m.\u001b[0m\u001b[0mforward\u001b[0m\u001b[0;34m(\u001b[0m\u001b[0mimages\u001b[0m\u001b[0;34m[\u001b[0m\u001b[0;36m0\u001b[0m\u001b[0;34m,\u001b[0m\u001b[0;34m:\u001b[0m\u001b[0;34m]\u001b[0m\u001b[0;34m)\u001b[0m\u001b[0;34m\u001b[0m\u001b[0;34m\u001b[0m\u001b[0m\n\u001b[0;32m----> 6\u001b[0;31m \u001b[0mhelper\u001b[0m\u001b[0;34m.\u001b[0m\u001b[0mview_classify\u001b[0m\u001b[0;34m(\u001b[0m\u001b[0mimages\u001b[0m\u001b[0;34m[\u001b[0m\u001b[0;36m0\u001b[0m\u001b[0;34m]\u001b[0m\u001b[0;34m.\u001b[0m\u001b[0mview\u001b[0m\u001b[0;34m(\u001b[0m\u001b[0;36m1\u001b[0m\u001b[0;34m,\u001b[0m \u001b[0;36m28\u001b[0m\u001b[0;34m,\u001b[0m \u001b[0;36m28\u001b[0m\u001b[0;34m)\u001b[0m\u001b[0;34m,\u001b[0m \u001b[0mps\u001b[0m\u001b[0;34m)\u001b[0m\u001b[0;34m\u001b[0m\u001b[0;34m\u001b[0m\u001b[0m\n\u001b[0m",
      "\u001b[0;31mNameError\u001b[0m: name 'helper' is not defined"
     ]
    }
   ],
   "source": [
    "## Run this cell with your model to make sure it works ##\n",
    "# Forward pass through the network and display output\n",
    "images, labels = next(iter(trainloader))\n",
    "images.resize_(images.shape[0], 1, 784)\n",
    "ps = model.forward(images[0,:])\n",
    "helper.view_classify(images[0].view(1, 28, 28), ps)"
   ]
  }
 ],
 "metadata": {
  "kernelspec": {
   "display_name": "Python 3",
   "language": "python",
   "name": "python3"
  },
  "language_info": {
   "codemirror_mode": {
    "name": "ipython",
    "version": 3
   },
   "file_extension": ".py",
   "mimetype": "text/x-python",
   "name": "python",
   "nbconvert_exporter": "python",
   "pygments_lexer": "ipython3",
   "version": "3.7.4"
  }
 },
 "nbformat": 4,
 "nbformat_minor": 2
}