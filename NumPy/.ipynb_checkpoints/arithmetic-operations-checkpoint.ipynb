{
 "cells": [
  {
   "cell_type": "code",
   "execution_count": 38,
   "metadata": {},
   "outputs": [
    {
     "name": "stdout",
     "output_type": "stream",
     "text": [
      "x+y [ 6.5  8.5 10.5 12.5]\n",
      "x+y - add [ 6.5  8.5 10.5 12.5]\n",
      "x-y [4.5 4.5 4.5 4.5]\n",
      "x*y [ 5.5 13.  22.5 34. ]\n",
      "x/y [5.5   3.25  2.5   2.125]\n",
      " \n",
      "x, y \n",
      " [[1 2]\n",
      " [3 4]]\n",
      "y \n",
      " [[5.5 6.5]\n",
      " [7.5 8.5]]\n",
      "x+y \n",
      " [[ 6.5  8.5]\n",
      " [10.5 12.5]]\n",
      "x+y - add \n",
      " [[ 6.5  8.5]\n",
      " [10.5 12.5]]\n",
      "x-y \n",
      " [[4.5 4.5]\n",
      " [4.5 4.5]]\n",
      "x*y \n",
      " [[ 5.5 13. ]\n",
      " [22.5 34. ]]\n",
      "x/y \n",
      " [[5.5   3.25 ]\n",
      " [2.5   2.125]]\n",
      "\n",
      "EXP(x) = [[ 2.71828183  7.3890561 ]\n",
      " [20.08553692 54.59815003]]\n",
      "\n",
      "SQRT(x) = [[1.         1.41421356]\n",
      " [1.73205081 2.        ]]\n",
      "\n",
      "POW(x,2) = [[ 1  4]\n",
      " [ 9 16]]\n",
      "Average of all elements in X: 2.5\n",
      "Sum of all elements in X: 10\n",
      "Median of all elements in the columns of X: [2. 3.]\n",
      "Maximum value of all elements in the rows of X: [2 4]\n",
      "Minimum value of all elements in X: 1\n"
     ]
    },
    {
     "ename": "TypeError",
     "evalue": "'tuple' object is not callable",
     "output_type": "error",
     "traceback": [
      "\u001b[0;31m---------------------------------------------------------------------------\u001b[0m",
      "\u001b[0;31mTypeError\u001b[0m                                 Traceback (most recent call last)",
      "\u001b[0;32m<ipython-input-38-1e6214ad13b9>\u001b[0m in \u001b[0;36m<module>\u001b[0;34m\u001b[0m\n\u001b[1;32m     45\u001b[0m \u001b[0mX\u001b[0m \u001b[0;34m=\u001b[0m \u001b[0mnp\u001b[0m\u001b[0;34m.\u001b[0m\u001b[0mrandom\u001b[0m\u001b[0;34m.\u001b[0m\u001b[0mrandint\u001b[0m\u001b[0;34m(\u001b[0m\u001b[0;36m1\u001b[0m\u001b[0;34m,\u001b[0m \u001b[0;36m5001\u001b[0m\u001b[0;34m,\u001b[0m \u001b[0msize\u001b[0m\u001b[0;34m=\u001b[0m\u001b[0;34m(\u001b[0m\u001b[0;36m1000\u001b[0m\u001b[0;34m,\u001b[0m \u001b[0;36m20\u001b[0m\u001b[0;34m)\u001b[0m\u001b[0;34m)\u001b[0m\u001b[0;34m\u001b[0m\u001b[0;34m\u001b[0m\u001b[0m\n\u001b[1;32m     46\u001b[0m \u001b[0my\u001b[0m \u001b[0;34m=\u001b[0m \u001b[0mX\u001b[0m\u001b[0;34m.\u001b[0m\u001b[0mstd\u001b[0m\u001b[0;34m(\u001b[0m\u001b[0;34m)\u001b[0m\u001b[0;34m\u001b[0m\u001b[0;34m\u001b[0m\u001b[0m\n\u001b[0;32m---> 47\u001b[0;31m \u001b[0mprint\u001b[0m\u001b[0;34m(\u001b[0m\u001b[0mX\u001b[0m\u001b[0;34m.\u001b[0m\u001b[0mshape\u001b[0m\u001b[0;34m(\u001b[0m\u001b[0;34m)\u001b[0m\u001b[0;34m)\u001b[0m\u001b[0;34m\u001b[0m\u001b[0;34m\u001b[0m\u001b[0m\n\u001b[0m",
      "\u001b[0;31mTypeError\u001b[0m: 'tuple' object is not callable"
     ]
    }
   ],
   "source": [
    "import numpy as np\n",
    "x = np.array([1, 2, 3, 4])\n",
    "y =  np.array([5.5, 6.5, 7.5, 8.5])\n",
    "\n",
    "print('x+y', x + y)\n",
    "print('x+y - add', np.add(x, y))\n",
    "print('x-y', np.subtract(y, x))\n",
    "print('x*y', np.multiply(x, y))\n",
    "print('x/y', np.divide(y, x))\n",
    "print(' ')\n",
    "\n",
    "x = np.array([1,2,3,4]).reshape(2,2)\n",
    "y = np.array([5.5,6.5,7.5,8.5]).reshape(2,2)\n",
    "\n",
    "print('x, y \\n', x)\n",
    "print('y \\n', y)\n",
    "print('x+y \\n', x + y)\n",
    "print('x+y - add \\n', np.add(x, y))\n",
    "print('x-y \\n', np.subtract(y, x))\n",
    "print('x*y \\n', np.multiply(x, y))\n",
    "print('x/y \\n', np.divide(y, x))\n",
    "\n",
    "# apply sqrt\n",
    "print()\n",
    "print('EXP(x) =', np.exp(x))\n",
    "print()\n",
    "print('SQRT(x) =',np.sqrt(x))\n",
    "print()\n",
    "print('POW(x,2) =',np.power(x,2))\n",
    "\n",
    "# mathematical functions\n",
    "print('Average of all elements in X:', x.mean())\n",
    "print('Sum of all elements in X:', x.sum())\n",
    "print('Median of all elements in the columns of X:', np.median(x,axis=0))\n",
    "print('Maximum value of all elements in the rows of X:', x.max(axis=1))\n",
    "print('Minimum value of all elements in X:', x.min())\n",
    "\n",
    "# Quiz\n",
    "\n",
    "# Use Broadcasting to create a 4 x 4 ndarray that has its first\n",
    "# column full of 1s, its second column full of 2s, its third\n",
    "# column full of 3s, etc.. \n",
    "X = np.ones((4,4)) * np.arange(1, 5)\n",
    "\n",
    "X = np.random.randint(1, 5001, size=(1000, 20))\n",
    "y = X.std()\n",
    "print(X.shape())\n"
   ]
  }
 ],
 "metadata": {
  "kernelspec": {
   "display_name": "Python [conda env:env] *",
   "language": "python",
   "name": "conda-env-env-py"
  },
  "language_info": {
   "codemirror_mode": {
    "name": "ipython",
    "version": 3
   },
   "file_extension": ".py",
   "mimetype": "text/x-python",
   "name": "python",
   "nbconvert_exporter": "python",
   "pygments_lexer": "ipython3",
   "version": "3.7.4"
  }
 },
 "nbformat": 4,
 "nbformat_minor": 2
}
