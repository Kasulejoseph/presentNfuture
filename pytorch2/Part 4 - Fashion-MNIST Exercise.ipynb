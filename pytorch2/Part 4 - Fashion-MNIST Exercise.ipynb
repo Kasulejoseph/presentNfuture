{
 "cells": [
  {
   "cell_type": "markdown",
   "metadata": {},
   "source": [
    "# Classifying Fashion-MNIST\n",
    "\n",
    "Now it's your turn to build and train a neural network. You'll be using the [Fashion-MNIST dataset](https://github.com/zalandoresearch/fashion-mnist), a drop-in replacement for the MNIST dataset. MNIST is actually quite trivial with neural networks where you can easily achieve better than 97% accuracy. Fashion-MNIST is a set of 28x28 greyscale images of clothes. It's more complex than MNIST, so it's a better representation of the actual performance of your network, and a better representation of datasets you'll use in the real world.\n",
    "\n",
    "<img src='assets/fashion-mnist-sprite.png' width=500px>\n",
    "\n",
    "In this notebook, you'll build your own neural network. For the most part, you could just copy and paste the code from Part 3, but you wouldn't be learning. It's important for you to write the code yourself and get it to work. Feel free to consult the previous notebook though as you work through this.\n",
    "\n",
    "First off, let's load the dataset through torchvision."
   ]
  },
  {
   "cell_type": "code",
   "execution_count": 8,
   "metadata": {},
   "outputs": [],
   "source": [
    "import torch\n",
    "from torchvision import datasets, transforms\n",
    "from Pytorch.helper import view_classify, imshow\n",
    "\n",
    "# Define a transform to normalize the data\n",
    "transform = transforms.Compose([transforms.ToTensor(),\n",
    "                                transforms.Normalize([0.5], [0.5])])\n",
    "# Download and load the training data\n",
    "trainset = datasets.FashionMNIST('Pytorch2/F_MNIST_data/', download=True, train=True, transform=transform)\n",
    "trainloader = torch.utils.data.DataLoader(trainset, batch_size=64, shuffle=True)\n",
    "\n",
    "# Download and load the test data\n",
    "testset = datasets.FashionMNIST('Pytorch2/F_MNIST_data/', download=True, train=False, transform=transform)\n",
    "testloader = torch.utils.data.DataLoader(testset, batch_size=64, shuffle=True)"
   ]
  },
  {
   "cell_type": "markdown",
   "metadata": {},
   "source": [
    "Here we can see one of the images."
   ]
  },
  {
   "cell_type": "code",
   "execution_count": 13,
   "metadata": {},
   "outputs": [
    {
     "data": {
      "image/png": "[encoded data removed]",
      "image/svg+xml": "<?xml version=\"1.0\" encoding=\"utf-8\" standalone=\"no\"?>\n<!DOCTYPE svg PUBLIC \"-//W3C//DTD SVG 1.1//EN\"\n  \"http://www.w3.org/Graphics/SVG/1.1/DTD/svg11.dtd\">\n<!-- Created with matplotlib (https://matplotlib.org/) -->\n<svg height=\"231.84pt\" version=\"1.1\" viewBox=\"0 0 231.84 231.84\" width=\"231.84pt\" xmlns=\"http://www.w3.org/2000/svg\" xmlns:xlink=\"http://www.w3.org/1999/xlink\">\n <defs>\n  <style type=\"text/css\">\n*{stroke-linecap:butt;stroke-linejoin:round;}\n  </style>\n </defs>\n <g id=\"figure_1\">\n  <g id=\"patch_1\">\n   <path d=\"M 0 231.84 \nL 231.84 231.84 \nL 231.84 0 \nL 0 0 \nz\n\" style=\"fill:none;\"/>\n  </g>\n  <g id=\"axes_1\">\n   <g id=\"patch_2\">\n    <path d=\"M 7.2 224.64 \nL 224.64 224.64 \nL 224.64 7.2 \nL 7.2 7.2 \nz\n\" style=\"fill:#ffffff;\"/>\n   </g>\n   <g clip-path=\"url(#p2940a9cb8c)\">\n    <image height=\"218\" id=\"image7ba8f6b825\" transform=\"scale(1 -1)translate(0 -218)\" width=\"218\" x=\"7.2\" xlink:href=\"data:image/png;base64,\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\" y=\"-6.64\"/>\n   </g>\n   <g id=\"matplotlib.axis_1\">\n    <g id=\"xtick_1\">\n     <g id=\"line2d_1\"/>\n    </g>\n    <g id=\"xtick_2\">\n     <g id=\"line2d_2\"/>\n    </g>\n    <g id=\"xtick_3\">\n     <g id=\"line2d_3\"/>\n    </g>\n    <g id=\"xtick_4\">\n     <g id=\"line2d_4\"/>\n    </g>\n    <g id=\"xtick_5\">\n     <g id=\"line2d_5\"/>\n    </g>\n    <g id=\"xtick_6\">\n     <g id=\"line2d_6\"/>\n    </g>\n   </g>\n   <g id=\"matplotlib.axis_2\">\n    <g id=\"ytick_1\">\n     <g id=\"line2d_7\"/>\n    </g>\n    <g id=\"ytick_2\">\n     <g id=\"line2d_8\"/>\n    </g>\n    <g id=\"ytick_3\">\n     <g id=\"line2d_9\"/>\n    </g>\n    <g id=\"ytick_4\">\n     <g id=\"line2d_10\"/>\n    </g>\n    <g id=\"ytick_5\">\n     <g id=\"line2d_11\"/>\n    </g>\n    <g id=\"ytick_6\">\n     <g id=\"line2d_12\"/>\n    </g>\n   </g>\n  </g>\n </g>\n <defs>\n  <clipPath id=\"p2940a9cb8c\">\n   <rect height=\"217.44\" width=\"217.44\" x=\"7.2\" y=\"7.2\"/>\n  </clipPath>\n </defs>\n</svg>\n",
      "text/plain": "<Figure size 432x288 with 1 Axes>"
     },
     "metadata": {
      "needs_background": "light"
     },
     "output_type": "display_data"
    }
   ],
   "source": [
    "image, label = next(iter(trainloader))\n",
    "imshow(image[0,:]);"
   ]
  },
  {
   "cell_type": "markdown",
   "metadata": {},
   "source": [
    "With the data loaded, it's time to import the necessary packages."
   ]
  },
  {
   "cell_type": "code",
   "execution_count": 1,
   "metadata": {},
   "outputs": [],
   "source": [
    "%matplotlib inline\n",
    "%config InlineBackend.figure_format = 'retina'\n",
    "\n",
    "import matplotlib.pyplot as plt\n",
    "import numpy as np\n",
    "import time\n",
    "\n",
    "import torch\n",
    "from torch import nn\n",
    "from torch import optim\n",
    "import torch.nn.functional as F\n",
    "from torchvision import datasets, transforms\n",
    "\n",
    "import helper"
   ]
  },
  {
   "cell_type": "markdown",
   "metadata": {},
   "source": [
    "## Building the network\n",
    "\n",
    "Here you should define your network. As with MNIST, each image is 28x28 which is a total of 784 pixels, and there are 10 classes. You should include at least one hidden layer. We suggest you use ReLU activations for the layers and to return the logits from the forward pass. It's up to you how many layers you add and the size of those layers."
   ]
  },
  {
   "cell_type": "code",
   "execution_count": null,
   "metadata": {},
   "outputs": [],
   "source": [
    "# TODO: Define your network architecture here"
   ]
  },
  {
   "cell_type": "markdown",
   "metadata": {},
   "source": [
    "# Train the network\n",
    "\n",
    "Now you should create your network and train it. First you'll want to define [the criterion](http://pytorch.org/docs/master/nn.html#loss-functions) ( something like `nn.CrossEntropyLoss`) and [the optimizer](http://pytorch.org/docs/master/optim.html) (typically `optim.SGD` or `optim.Adam`).\n",
    "\n",
    "Then write the training code. Remember the training pass is a fairly straightforward process:\n",
    "\n",
    "* Make a forward pass through the network to get the logits \n",
    "* Use the logits to calculate the loss\n",
    "* Perform a backward pass through the network with `loss.backward()` to calculate the gradients\n",
    "* Take a step with the optimizer to update the weights\n",
    "\n",
    "By adjusting the hyperparameters (hidden units, learning rate, etc), you should be able to get the training loss below 0.4."
   ]
  },
  {
   "cell_type": "code",
   "execution_count": null,
   "metadata": {},
   "outputs": [],
   "source": [
    "# TODO: Create the network, define the criterion and optimizer\n"
   ]
  },
  {
   "cell_type": "code",
   "execution_count": null,
   "metadata": {},
   "outputs": [],
   "source": [
    "# TODO: Train the network here\n"
   ]
  },
  {
   "cell_type": "code",
   "execution_count": null,
   "metadata": {},
   "outputs": [],
   "source": [
    "# Test out your network!\n",
    "\n",
    "dataiter = iter(testloader)\n",
    "images, labels = dataiter.next()\n",
    "img = images[0]\n",
    "# Convert 2D image to 1D vector\n",
    "img = img.resize_(1, 784)\n",
    "\n",
    "# TODO: Calculate the class probabilities (softmax) for img\n",
    "ps = \n",
    "\n",
    "# Plot the image and probabilities\n",
    "helper.view_classify(img.resize_(1, 28, 28), ps, version='Fashion')"
   ]
  },
  {
   "cell_type": "markdown",
   "metadata": {},
   "source": [
    "Now that your network is trained, you'll want to save it to disk so you can load it later instead of training it again. Obviously, it's impractical to train a network every time you need one. In practice, you'll train it once, save the model, then reload it for further training or making predictions. In the next part, I'll show you how to save and load trained models."
   ]
  }
 ],
 "metadata": {
  "kernelspec": {
   "display_name": "Python 3",
   "language": "python",
   "name": "python3"
  },
  "language_info": {
   "codemirror_mode": {
    "name": "ipython",
    "version": 3
   },
   "file_extension": ".py",
   "mimetype": "text/x-python",
   "name": "python",
   "nbconvert_exporter": "python",
   "pygments_lexer": "ipython3",
   "version": "3.7.4"
  }
 },
 "nbformat": 4,
 "nbformat_minor": 2
}