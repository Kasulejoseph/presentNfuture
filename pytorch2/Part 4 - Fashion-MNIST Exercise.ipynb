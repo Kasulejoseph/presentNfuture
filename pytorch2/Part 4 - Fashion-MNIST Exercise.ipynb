{
 "cells": [
  {
   "cell_type": "markdown",
   "metadata": {},
   "outputs": [],
   "source": [
    "# Classifying Fashion-MNIST\n",
    "\n",
    "Now it's your turn to build and train a neural network. You'll be using the [Fashion-MNIST dataset](https://github.com/zalandoresearch/fashion-mnist), a drop-in replacement for the MNIST dataset. MNIST is actually quite trivial with neural networks where you can easily achieve better than 97% accuracy. Fashion-MNIST is a set of 28x28 greyscale images of clothes. It's more complex than MNIST, so it's a better representation of the actual performance of your network, and a better representation of datasets you'll use in the real world.\n",
    "\n",
    "<img src='assets/fashion-mnist-sprite.png' width=500px>\n",
    "\n",
    "In this notebook, you'll build your own neural network. For the most part, you could just copy and paste the code from Part 3, but you wouldn't be learning. It's important for you to write the code yourself and get it to work. Feel free to consult the previous notebook though as you work through this.\n",
    "\n",
    "First off, let's load the dataset through torchvision."
   ]
  },
  {
   "cell_type": "code",
   "execution_count": 0,
   "metadata": {},
   "outputs": [],
   "source": [
    "import torch\n",
    "from torchvision import datasets, transforms\n",
    "from Pytorch.helper import view_classify, imshow\n",
    "\n",
    "# Define a transform to normalize the data\n",
    "transform = transforms.Compose([transforms.ToTensor(),\n",
    "                                transforms.Normalize([0.5], [0.5])])\n",
    "# Download and load the training data\n",
    "trainset = datasets.FashionMNIST('Pytorch2/F_MNIST_data/', download=True, train=True, transform=transform)\n",
    "trainloader = torch.utils.data.DataLoader(trainset, batch_size=64, shuffle=True)\n",
    "\n",
    "# Download and load the test data\n",
    "testset = datasets.FashionMNIST('Pytorch2/F_MNIST_data/', download=True, train=False, transform=transform)\n",
    "testloader = torch.utils.data.DataLoader(testset, batch_size=64, shuffle=True)"
   ]
  },
  {
   "cell_type": "markdown",
   "metadata": {},
   "outputs": [],
   "source": [
    "Here we can see one of the images."
   ]
  },
  {
   "cell_type": "code",
   "execution_count": 0,
   "metadata": {},
   "outputs": [],
   "source": [
    "image, label = next(iter(trainloader))\n",
    "imshow(image[0,:]);"
   ]
  },
  {
   "cell_type": "markdown",
   "metadata": {},
   "outputs": [],
   "source": [
    "With the data loaded, it's time to import the necessary packages."
   ]
  },
  {
   "cell_type": "code",
   "execution_count": 0,
   "metadata": {},
   "outputs": [],
   "source": [
    "%matplotlib inline\n",
    "%config InlineBackend.figure_format = 'retina'\n",
    "\n",
    "import matplotlib.pyplot as plt\n",
    "import numpy as np\n",
    "import time\n",
    "\n",
    "import torch\n",
    "from torch import nn\n",
    "from torch import optim\n",
    "import torch.nn.functional as F\n",
    "from torchvision import datasets, transforms\n"
   ]
  },
  {
   "cell_type": "markdown",
   "metadata": {},
   "outputs": [],
   "source": [
    "## Building the network\n",
    "\n",
    "Here you should define your network. As with MNIST, each image is 28x28 which is a total of 784 pixels, and there are 10 classes. You should include at least one hidden layer. We suggest you use ReLU activations for the layers and to return the logits from the forward pass. It's up to you how many layers you add and the size of those layers."
   ]
  },
  {
   "cell_type": "code",
   "execution_count": 113,
   "metadata": {},
   "outputs": [
    {
     "data": {
      "text/plain": "Network(\n  (model): Sequential(\n    (fc1): Linear(in_features=784, out_features=128, bias=True)\n    (reLu1): ReLU()\n    (fc2): Linear(in_features=128, out_features=64, bias=True)\n    (reLu2): ReLU()\n    (fc3): Linear(in_features=64, out_features=10, bias=True)\n    (softmax): Softmax(dim=1)\n  )\n)"
     },
     "execution_count": 113,
     "metadata": {},
     "output_type": "execute_result"
    }
   ],
   "source": [
    "# TODO: Define your network architecture here\n",
    "from collections import OrderedDict\n",
    "input_size = 784\n",
    "hidden_layer = [128, 64]\n",
    "output_size = 10\n",
    "class Network(nn.Module):\n",
    "    def __init__(self):\n",
    "        super().__init__()\n",
    "        self.model = nn.Sequential(OrderedDict([\n",
    "            ('fc1', nn.Linear(input_size, hidden_layer[0])),\n",
    "            ('reLu1', nn.ReLU()),\n",
    "            ('fc2', nn.Linear(hidden_layer[0], hidden_layer[1])),\n",
    "            ('reLu2', nn.ReLU()),\n",
    "            ('fc3', nn.Linear(hidden_layer[1], output_size)),\n",
    "            ('softmax', nn.Softmax(dim=1))\n",
    "            ]))\n",
    "    def forward(self, x):\n",
    "        x = self.model.fc1(x)\n",
    "        x = F.relu(x)\n",
    "        x = self.model.fc2(x)\n",
    "        x = F.relu(x)\n",
    "        x = self.model.fc3(x)\n",
    "        x = F.softmax(x, dim=1)\n",
    "        return x\n",
    "\n",
    "model = Network()\n",
    "model\n"
   ]
  },
  {
   "cell_type": "markdown",
   "metadata": {},
   "outputs": [],
   "source": [
    "# Train the network\n",
    "\n",
    "Now you should create your network and train it. First you'll want to define [the criterion](http://pytorch.org/docs/master/nn.html#loss-functions) ( something like `nn.CrossEntropyLoss`) and [the optimizer](http://pytorch.org/docs/master/optim.html) (typically `optim.SGD` or `optim.Adam`).\n",
    "\n",
    "Then write the training code. Remember the training pass is a fairly straightforward process:\n",
    "\n",
    "* Make a forward pass through the network to get the logits \n",
    "* Use the logits to calculate the loss\n",
    "* Perform a backward pass through the network with `loss.backward()` to calculate the gradients\n",
    "* Take a step with the optimizer to update the weights\n",
    "\n",
    "By adjusting the hyperparameters (hidden units, learning rate, etc), you should be able to get the training loss below 0.4."
   ]
  },
  {
   "cell_type": "code",
   "execution_count": 121,
   "metadata": {},
   "outputs": [],
   "source": [
    "# TODO: Create the network, define the criterion and optimizer\n",
    "criterion = nn.CrossEntropyLoss()\n",
    "optimizer = optim.Adam(model.parameters(), lr=0.001)\n",
    "epochs = 3"
   ]
  },
  {
   "cell_type": "code",
   "execution_count": 122,
   "metadata": {},
   "outputs": [
    {
     "name": "stdout",
     "output_type": "stream",
     "text": "torch.Size([64, 1, 28, 28])\nEpochs: 1/3... Loss: 2.0084\nEpochs: 1/3... Loss: 1.7961\nEpochs: 1/3... Loss: 1.7256\nEpochs: 1/3... Loss: 1.7369\nEpochs: 1/3... Loss: 1.6966\nEpochs: 1/3... Loss: 1.7045\nEpochs: 1/3... Loss: 1.6912\nEpochs: 1/3... Loss: 1.6724\nEpochs: 1/3... Loss: 1.6802\nEpochs: 1/3... Loss: 1.6739\nEpochs: 1/3... Loss: 1.6598\nEpochs: 1/3... Loss: 1.6662\nEpochs: 1/3... Loss: 1.6559\nEpochs: 1/3... Loss: 1.6676\nEpochs: 1/3... Loss: 1.6559\nEpochs: 1/3... Loss: 1.6563\nEpochs: 1/3... Loss: 1.6381\nEpochs: 1/3... Loss: 1.6509\nEpochs: 1/3... Loss: 1.6406\nEpochs: 1/3... Loss: 1.6491\nEpochs: 1/3... Loss: 1.6316\nEpochs: 1/3... Loss: 1.6396\nEpochs: 1/3... Loss: 1.6355\nEpochs: 2/3... Loss: 0.9072\nEpochs: 2/3... Loss: 1.6390\nEpochs: 2/3... Loss: 1.6398\nEpochs: 2/3... Loss: 1.6231\nEpochs: 2/3... Loss: 1.6279\nEpochs: 2/3... Loss: 1.6139\nEpochs: 2/3... Loss: 1.6365\nEpochs: 2/3... Loss: 1.6333\nEpochs: 2/3... Loss: 1.6215\nEpochs: 2/3... Loss: 1.6274\nEpochs: 2/3... Loss: 1.6433\nEpochs: 2/3... Loss: 1.6409\nEpochs: 2/3... Loss: 1.6340\nEpochs: 2/3... Loss: 1.6146\nEpochs: 2/3... Loss: 1.6149\nEpochs: 2/3... Loss: 1.6162\nEpochs: 2/3... Loss: 1.6272\nEpochs: 2/3... Loss: 1.6220\nEpochs: 2/3... Loss: 1.6160\nEpochs: 2/3... Loss: 1.6348\nEpochs: 2/3... Loss: 1.6226\nEpochs: 2/3... Loss: 1.6131\nEpochs: 2/3... Loss: 1.6240\nEpochs: 3/3... Loss: 0.1652\nEpochs: 3/3... Loss: 1.6151\nEpochs: 3/3... Loss: 1.6195\nEpochs: 3/3... Loss: 1.6072\nEpochs: 3/3... Loss: 1.6199\nEpochs: 3/3... Loss: 1.6157\nEpochs: 3/3... Loss: 1.6187\nEpochs: 3/3... Loss: 1.6139\nEpochs: 3/3... Loss: 1.6161\nEpochs: 3/3... Loss: 1.6183\nEpochs: 3/3... Loss: 1.6210\nEpochs: 3/3... Loss: 1.6129\nEpochs: 3/3... Loss: 1.6291\nEpochs: 3/3... Loss: 1.6229\nEpochs: 3/3... Loss: 1.6153\nEpochs: 3/3... Loss: 1.6179\nEpochs: 3/3... Loss: 1.6261\nEpochs: 3/3... Loss: 1.6192\nEpochs: 3/3... Loss: 1.6086\nEpochs: 3/3... Loss: 1.6085\nEpochs: 3/3... Loss: 1.6058\nEpochs: 3/3... Loss: 1.6169\nEpochs: 3/3... Loss: 1.6181\nEpochs: 3/3... Loss: 1.6104\n"
    }
   ],
   "source": [
    "# TODO: Train the network here\n",
    "steps = 0\n",
    "print_forty = 40\n",
    "yy, labels = next(iter(trainloader))\n",
    "print(yy.size())\n",
    "for e in range(epochs):\n",
    "    running_loss = 0\n",
    "    for images, labels in trainloader:\n",
    "        steps += 1\n",
    "        # Flatten MNIST images into a 784 long vector\n",
    "        images.resize_(images.size()[0], 784)\n",
    "        # set grad to zero\n",
    "        optimizer.zero_grad()\n",
    "        output = model.forward(images)\n",
    "        loss = criterion(output, labels)\n",
    "        loss.backward()\n",
    "        optimizer.step()\n",
    "\n",
    "        running_loss += loss.item()\n",
    "        if steps % print_forty == 0:\n",
    "            print(\"Epochs: {}/{}...\".format(e+1, epochs),\n",
    "            \"Loss: {:.4f}\".format(running_loss/print_forty)\n",
    "            )\n",
    "            running_loss = 0"
   ]
  },
  {
   "cell_type": "code",
   "execution_count": 130,
   "metadata": {},
   "outputs": [
    {
     "data": {
      "image/png": "[encoded data removed]",
      "text/plain": "<Figure size 432x648 with 2 Axes>"
     },
     "metadata": {
      "image/png": {
       "height": 216,
       "width": 424
      },
      "needs_background": "light"
     },
     "output_type": "display_data"
    }
   ],
   "source": [
    "# Test out your network!\n",
    "\n",
    "dataiter = iter(testloader)\n",
    "images, labels = dataiter.next()\n",
    "img = images[0]\n",
    "# Convert 2D image to 1D vector\n",
    "img = img.resize_(1, 784)\n",
    "\n",
    "# Turn off gradients to speed up this part\n",
    "with torch.no_grad():\n",
    "    logits = model.forward(img)\n",
    "\n",
    "# TODO: Calculate the class probabilities (softmax) for img\n",
    "ps = F.softmax(logits, dim=1)\n",
    "\n",
    "# Plot the image and probabilities\n",
    "view_classify(img.resize_(1, 28, 28), ps, version='Fashion')"
   ]
  },
  {
   "cell_type": "markdown",
   "metadata": {},
   "outputs": [],
   "source": [
    "Now that your network is trained, you'll want to save it to disk so you can load it later instead of training it again. Obviously, it's impractical to train a network every time you need one. In practice, you'll train it once, save the model, then reload it for further training or making predictions. In the next part, I'll show you how to save and load trained models."
   ]
  }
 ],
 "metadata": {
  "kernelspec": {
   "display_name": "Python 3",
   "language": "python",
   "name": "python3"
  },
  "language_info": {
   "codemirror_mode": {
    "name": "ipython",
    "version": 3
   },
   "file_extension": ".py",
   "mimetype": "text/x-python",
   "name": "python",
   "nbconvert_exporter": "python",
   "pygments_lexer": "ipython3",
   "version": "3.7.4"
  }
 },
 "nbformat": 4,
 "nbformat_minor": 2
}