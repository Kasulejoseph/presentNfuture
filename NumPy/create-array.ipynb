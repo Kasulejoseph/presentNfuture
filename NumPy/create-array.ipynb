{
 "cells": [
  {
   "cell_type": "code",
   "execution_count": 27,
   "metadata": {},
   "outputs": [
    {
     "name": "stdout",
     "output_type": "stream",
     "text": [
      "y = [[ 2  4  6  8]\n",
      " [10 12 14 16]\n",
      " [18 20 22 24]\n",
      " [26 28 30 32]]\n",
      "(4, 3)\n",
      "12\n",
      "<class 'numpy.ndarray'>\n",
      "int64\n"
     ]
    }
   ],
   "source": [
    "import numpy as np\n",
    "x = np.array([1, 3, 4, 5, 6])\n",
    "y = np.array([[1,2,3],[4,5,6],[7,8,9], [10,11,12]])\n",
    "\n",
    "# creates ndarrays using builtin functions\n",
    "zeros = np.zeros((4, 3), dtype=int)\n",
    "ones = np.ones((4, 3))\n",
    "anyNumber = np.full((4, 3), 5)\n",
    "\n",
    "#identity matrix\n",
    "mat5x5 = np.eye(5, dtype=int)\n",
    "# diagonal matrix\n",
    "matdiag = np.diag([10, 20, 30])\n",
    "\n",
    "# create array ranges : arange(start, stop, step) linspace() reshape()\n",
    "x = np.arange(10) #[0 1 2 3 4 5 6 7 8 9]\n",
    "x = np.arange(4, 10) #[4 5 6 7 8 9]\n",
    "x = np.arange(1,14,3) #[ 1  4  7 10 13]\n",
    "\n",
    "# number of elements in a particular interval linspace(start, stop, space)\n",
    "x= np.linspace(0, 25, 10, endpoint = False) # [ 0.   2.5  5.   7.5 10.  12.5 15.  17.5 20.  22.5]\n",
    "x = np.reshape(x, (5, 2))   # [[ 0.   2.5] [ 5.   7.5] [10.  12.5] [15.  17.5] [20.  22.5]]\n",
    "\n",
    "# create random ndarray half-open interval [0.0, 1.0)\n",
    "x = np.random.random((3, 3)) # [[0.91347704 0.1700792  0.60123592] [0.04274508 0.58518132 0.75794929][0.7933133  0.4584306  0.74289166]]\n",
    "# np.random.randint(start, stop, size = shape) \n",
    "x = np.random.randint(4, 25, size=(3, 2)) #[[ 7 14] [18  5] [17 12]]\n",
    "\n",
    "# np.random.normal(mean, standard deviation, size=shape) ==> random numbers that satisfy certain statistical properties\n",
    "x = np.arange(2, 33, 2).reshape(4, 4)\n",
    "print('y =', x)\n",
    "\n",
    "\n",
    "print(y.shape)\n",
    "print(y.size)\n",
    "print(type(y))\n",
    "print(y.dtype)"
   ]
  }
 ],
 "metadata": {
  "kernelspec": {
   "display_name": "Python [conda env:env] *",
   "language": "python",
   "name": "conda-env-env-py"
  },
  "language_info": {
   "codemirror_mode": {
    "name": "ipython",
    "version": 3
   },
   "file_extension": ".py",
   "mimetype": "text/x-python",
   "name": "python",
   "nbconvert_exporter": "python",
   "pygments_lexer": "ipython3",
   "version": "3.7.4"
  }
 },
 "nbformat": 4,
 "nbformat_minor": 2
}
